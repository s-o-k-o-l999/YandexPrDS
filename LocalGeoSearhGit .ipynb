{
 "cells": [
  {
   "cell_type": "markdown",
   "metadata": {},
   "source": [
    "# Выбор локации для скважины"
   ]
  },
  {
   "cell_type": "markdown",
   "metadata": {},
   "source": [
    "Допустим, вы работаете в добывающей компании «ГлавРосГосНефть». Нужно решить, где бурить новую скважину.\n",
    "\n",
    "Вам предоставлены пробы нефти в трёх регионах: в каждом 10 000 месторождений, где измерили качество нефти и объём её запасов. Постройте модель машинного обучения, которая поможет определить регион, где добыча принесёт наибольшую прибыль. Проанализируйте возможную прибыль и риски техникой *Bootstrap.*\n",
    "\n",
    "Шаги для выбора локации:\n",
    "\n",
    "- В избранном регионе ищут месторождения, для каждого определяют значения признаков;\n",
    "- Строят модель и оценивают объём запасов;\n",
    "- Выбирают месторождения с самым высокими оценками значений. Количество месторождений зависит от бюджета компании и стоимости разработки одной скважины;\n",
    "- Прибыль равна суммарной прибыли отобранных месторождений."
   ]
  },
  {
   "cell_type": "markdown",
   "metadata": {},
   "source": [
    "## Загрузка и подготовка данных"
   ]
  },
  {
   "cell_type": "code",
   "execution_count": 1,
   "metadata": {},
   "outputs": [],
   "source": [
    "import pandas as pd #импортируем нужные нам библиотеки\n",
    "import numpy as np\n",
    "from sklearn.preprocessing import StandardScaler\n",
    "from sklearn.model_selection import train_test_split\n",
    "from sklearn.linear_model import LinearRegression\n",
    "from sklearn.metrics import mean_squared_error,confusion_matrix\n",
    "from scipy import stats as st\n",
    "from numpy.random import RandomState\n",
    "import matplotlib.pyplot as plt\n",
    "import itertools \n",
    "import seaborn as sns\n",
    "import warnings\n",
    "warnings.filterwarnings('ignore')\n",
    "pd.options.display.float_format = '{:,.2f}'.format"
   ]
  },
  {
   "cell_type": "code",
   "execution_count": 2,
   "metadata": {},
   "outputs": [
    {
     "data": {
      "text/html": [
       "<div>\n",
       "<style scoped>\n",
       "    .dataframe tbody tr th:only-of-type {\n",
       "        vertical-align: middle;\n",
       "    }\n",
       "\n",
       "    .dataframe tbody tr th {\n",
       "        vertical-align: top;\n",
       "    }\n",
       "\n",
       "    .dataframe thead th {\n",
       "        text-align: right;\n",
       "    }\n",
       "</style>\n",
       "<table border=\"1\" class=\"dataframe\">\n",
       "  <thead>\n",
       "    <tr style=\"text-align: right;\">\n",
       "      <th></th>\n",
       "      <th>f0</th>\n",
       "      <th>f1</th>\n",
       "      <th>f2</th>\n",
       "      <th>product</th>\n",
       "    </tr>\n",
       "  </thead>\n",
       "  <tbody>\n",
       "    <tr>\n",
       "      <td>count</td>\n",
       "      <td>100,000.00</td>\n",
       "      <td>100,000.00</td>\n",
       "      <td>100,000.00</td>\n",
       "      <td>100,000.00</td>\n",
       "    </tr>\n",
       "    <tr>\n",
       "      <td>mean</td>\n",
       "      <td>0.50</td>\n",
       "      <td>0.25</td>\n",
       "      <td>2.50</td>\n",
       "      <td>92.50</td>\n",
       "    </tr>\n",
       "    <tr>\n",
       "      <td>std</td>\n",
       "      <td>0.87</td>\n",
       "      <td>0.50</td>\n",
       "      <td>3.25</td>\n",
       "      <td>44.29</td>\n",
       "    </tr>\n",
       "    <tr>\n",
       "      <td>min</td>\n",
       "      <td>-1.41</td>\n",
       "      <td>-0.85</td>\n",
       "      <td>-12.09</td>\n",
       "      <td>0.00</td>\n",
       "    </tr>\n",
       "    <tr>\n",
       "      <td>25%</td>\n",
       "      <td>-0.07</td>\n",
       "      <td>-0.20</td>\n",
       "      <td>0.29</td>\n",
       "      <td>56.50</td>\n",
       "    </tr>\n",
       "    <tr>\n",
       "      <td>50%</td>\n",
       "      <td>0.50</td>\n",
       "      <td>0.25</td>\n",
       "      <td>2.52</td>\n",
       "      <td>91.85</td>\n",
       "    </tr>\n",
       "    <tr>\n",
       "      <td>75%</td>\n",
       "      <td>1.07</td>\n",
       "      <td>0.70</td>\n",
       "      <td>4.72</td>\n",
       "      <td>128.56</td>\n",
       "    </tr>\n",
       "    <tr>\n",
       "      <td>max</td>\n",
       "      <td>2.36</td>\n",
       "      <td>1.34</td>\n",
       "      <td>16.00</td>\n",
       "      <td>185.36</td>\n",
       "    </tr>\n",
       "  </tbody>\n",
       "</table>\n",
       "</div>"
      ],
      "text/plain": [
       "              f0         f1         f2    product\n",
       "count 100,000.00 100,000.00 100,000.00 100,000.00\n",
       "mean        0.50       0.25       2.50      92.50\n",
       "std         0.87       0.50       3.25      44.29\n",
       "min        -1.41      -0.85     -12.09       0.00\n",
       "25%        -0.07      -0.20       0.29      56.50\n",
       "50%         0.50       0.25       2.52      91.85\n",
       "75%         1.07       0.70       4.72     128.56\n",
       "max         2.36       1.34      16.00     185.36"
      ]
     },
     "execution_count": 2,
     "metadata": {},
     "output_type": "execute_result"
    }
   ],
   "source": [
    "df = pd.read_csv('/datasets/geo_data_0.csv')\n",
    "df.describe()"
   ]
  },
  {
   "cell_type": "code",
   "execution_count": 3,
   "metadata": {},
   "outputs": [
    {
     "data": {
      "text/html": [
       "<div>\n",
       "<style scoped>\n",
       "    .dataframe tbody tr th:only-of-type {\n",
       "        vertical-align: middle;\n",
       "    }\n",
       "\n",
       "    .dataframe tbody tr th {\n",
       "        vertical-align: top;\n",
       "    }\n",
       "\n",
       "    .dataframe thead th {\n",
       "        text-align: right;\n",
       "    }\n",
       "</style>\n",
       "<table border=\"1\" class=\"dataframe\">\n",
       "  <thead>\n",
       "    <tr style=\"text-align: right;\">\n",
       "      <th></th>\n",
       "      <th>f0</th>\n",
       "      <th>f1</th>\n",
       "      <th>f2</th>\n",
       "      <th>product</th>\n",
       "    </tr>\n",
       "  </thead>\n",
       "  <tbody>\n",
       "    <tr>\n",
       "      <td>count</td>\n",
       "      <td>100,000.00</td>\n",
       "      <td>100,000.00</td>\n",
       "      <td>100,000.00</td>\n",
       "      <td>100,000.00</td>\n",
       "    </tr>\n",
       "    <tr>\n",
       "      <td>mean</td>\n",
       "      <td>1.14</td>\n",
       "      <td>-4.80</td>\n",
       "      <td>2.49</td>\n",
       "      <td>68.83</td>\n",
       "    </tr>\n",
       "    <tr>\n",
       "      <td>std</td>\n",
       "      <td>8.97</td>\n",
       "      <td>5.12</td>\n",
       "      <td>1.70</td>\n",
       "      <td>45.94</td>\n",
       "    </tr>\n",
       "    <tr>\n",
       "      <td>min</td>\n",
       "      <td>-31.61</td>\n",
       "      <td>-26.36</td>\n",
       "      <td>-0.02</td>\n",
       "      <td>0.00</td>\n",
       "    </tr>\n",
       "    <tr>\n",
       "      <td>25%</td>\n",
       "      <td>-6.30</td>\n",
       "      <td>-8.27</td>\n",
       "      <td>1.00</td>\n",
       "      <td>26.95</td>\n",
       "    </tr>\n",
       "    <tr>\n",
       "      <td>50%</td>\n",
       "      <td>1.15</td>\n",
       "      <td>-4.81</td>\n",
       "      <td>2.01</td>\n",
       "      <td>57.09</td>\n",
       "    </tr>\n",
       "    <tr>\n",
       "      <td>75%</td>\n",
       "      <td>8.62</td>\n",
       "      <td>-1.33</td>\n",
       "      <td>4.00</td>\n",
       "      <td>107.81</td>\n",
       "    </tr>\n",
       "    <tr>\n",
       "      <td>max</td>\n",
       "      <td>29.42</td>\n",
       "      <td>18.73</td>\n",
       "      <td>5.02</td>\n",
       "      <td>137.95</td>\n",
       "    </tr>\n",
       "  </tbody>\n",
       "</table>\n",
       "</div>"
      ],
      "text/plain": [
       "              f0         f1         f2    product\n",
       "count 100,000.00 100,000.00 100,000.00 100,000.00\n",
       "mean        1.14      -4.80       2.49      68.83\n",
       "std         8.97       5.12       1.70      45.94\n",
       "min       -31.61     -26.36      -0.02       0.00\n",
       "25%        -6.30      -8.27       1.00      26.95\n",
       "50%         1.15      -4.81       2.01      57.09\n",
       "75%         8.62      -1.33       4.00     107.81\n",
       "max        29.42      18.73       5.02     137.95"
      ]
     },
     "execution_count": 3,
     "metadata": {},
     "output_type": "execute_result"
    }
   ],
   "source": [
    "df_1 = pd.read_csv('/datasets/geo_data_1.csv')\n",
    "df_1.describe()"
   ]
  },
  {
   "cell_type": "code",
   "execution_count": 4,
   "metadata": {},
   "outputs": [
    {
     "data": {
      "text/html": [
       "<div>\n",
       "<style scoped>\n",
       "    .dataframe tbody tr th:only-of-type {\n",
       "        vertical-align: middle;\n",
       "    }\n",
       "\n",
       "    .dataframe tbody tr th {\n",
       "        vertical-align: top;\n",
       "    }\n",
       "\n",
       "    .dataframe thead th {\n",
       "        text-align: right;\n",
       "    }\n",
       "</style>\n",
       "<table border=\"1\" class=\"dataframe\">\n",
       "  <thead>\n",
       "    <tr style=\"text-align: right;\">\n",
       "      <th></th>\n",
       "      <th>f0</th>\n",
       "      <th>f1</th>\n",
       "      <th>f2</th>\n",
       "      <th>product</th>\n",
       "    </tr>\n",
       "  </thead>\n",
       "  <tbody>\n",
       "    <tr>\n",
       "      <td>count</td>\n",
       "      <td>100,000.00</td>\n",
       "      <td>100,000.00</td>\n",
       "      <td>100,000.00</td>\n",
       "      <td>100,000.00</td>\n",
       "    </tr>\n",
       "    <tr>\n",
       "      <td>mean</td>\n",
       "      <td>0.00</td>\n",
       "      <td>-0.00</td>\n",
       "      <td>2.50</td>\n",
       "      <td>95.00</td>\n",
       "    </tr>\n",
       "    <tr>\n",
       "      <td>std</td>\n",
       "      <td>1.73</td>\n",
       "      <td>1.73</td>\n",
       "      <td>3.47</td>\n",
       "      <td>44.75</td>\n",
       "    </tr>\n",
       "    <tr>\n",
       "      <td>min</td>\n",
       "      <td>-8.76</td>\n",
       "      <td>-7.08</td>\n",
       "      <td>-11.97</td>\n",
       "      <td>0.00</td>\n",
       "    </tr>\n",
       "    <tr>\n",
       "      <td>25%</td>\n",
       "      <td>-1.16</td>\n",
       "      <td>-1.17</td>\n",
       "      <td>0.13</td>\n",
       "      <td>59.45</td>\n",
       "    </tr>\n",
       "    <tr>\n",
       "      <td>50%</td>\n",
       "      <td>0.01</td>\n",
       "      <td>-0.01</td>\n",
       "      <td>2.48</td>\n",
       "      <td>94.93</td>\n",
       "    </tr>\n",
       "    <tr>\n",
       "      <td>75%</td>\n",
       "      <td>1.16</td>\n",
       "      <td>1.16</td>\n",
       "      <td>4.86</td>\n",
       "      <td>130.60</td>\n",
       "    </tr>\n",
       "    <tr>\n",
       "      <td>max</td>\n",
       "      <td>7.24</td>\n",
       "      <td>7.84</td>\n",
       "      <td>16.74</td>\n",
       "      <td>190.03</td>\n",
       "    </tr>\n",
       "  </tbody>\n",
       "</table>\n",
       "</div>"
      ],
      "text/plain": [
       "              f0         f1         f2    product\n",
       "count 100,000.00 100,000.00 100,000.00 100,000.00\n",
       "mean        0.00      -0.00       2.50      95.00\n",
       "std         1.73       1.73       3.47      44.75\n",
       "min        -8.76      -7.08     -11.97       0.00\n",
       "25%        -1.16      -1.17       0.13      59.45\n",
       "50%         0.01      -0.01       2.48      94.93\n",
       "75%         1.16       1.16       4.86     130.60\n",
       "max         7.24       7.84      16.74     190.03"
      ]
     },
     "execution_count": 4,
     "metadata": {},
     "output_type": "execute_result"
    }
   ],
   "source": [
    "df_2 = pd.read_csv('/datasets/geo_data_2.csv')\n",
    "df_2.describe()"
   ]
  },
  {
   "cell_type": "code",
   "execution_count": 5,
   "metadata": {},
   "outputs": [
    {
     "name": "stdout",
     "output_type": "stream",
     "text": [
      "<class 'pandas.core.frame.DataFrame'>\n",
      "RangeIndex: 100000 entries, 0 to 99999\n",
      "Data columns (total 5 columns):\n",
      "id         100000 non-null object\n",
      "f0         100000 non-null float64\n",
      "f1         100000 non-null float64\n",
      "f2         100000 non-null float64\n",
      "product    100000 non-null float64\n",
      "dtypes: float64(4), object(1)\n",
      "memory usage: 3.8+ MB\n"
     ]
    }
   ],
   "source": [
    "df.info()"
   ]
  },
  {
   "cell_type": "code",
   "execution_count": 6,
   "metadata": {},
   "outputs": [
    {
     "name": "stdout",
     "output_type": "stream",
     "text": [
      "<class 'pandas.core.frame.DataFrame'>\n",
      "RangeIndex: 100000 entries, 0 to 99999\n",
      "Data columns (total 5 columns):\n",
      "id         100000 non-null object\n",
      "f0         100000 non-null float64\n",
      "f1         100000 non-null float64\n",
      "f2         100000 non-null float64\n",
      "product    100000 non-null float64\n",
      "dtypes: float64(4), object(1)\n",
      "memory usage: 3.8+ MB\n"
     ]
    }
   ],
   "source": [
    "df_1.info()"
   ]
  },
  {
   "cell_type": "code",
   "execution_count": 7,
   "metadata": {},
   "outputs": [
    {
     "name": "stdout",
     "output_type": "stream",
     "text": [
      "<class 'pandas.core.frame.DataFrame'>\n",
      "RangeIndex: 100000 entries, 0 to 99999\n",
      "Data columns (total 5 columns):\n",
      "id         100000 non-null object\n",
      "f0         100000 non-null float64\n",
      "f1         100000 non-null float64\n",
      "f2         100000 non-null float64\n",
      "product    100000 non-null float64\n",
      "dtypes: float64(4), object(1)\n",
      "memory usage: 3.8+ MB\n"
     ]
    }
   ],
   "source": [
    "df_2.info()"
   ]
  },
  {
   "cell_type": "markdown",
   "metadata": {},
   "source": [
    "Загрузим и посмотрим на наши датасеты методами info и describe. Видно что значение в парметров f0 и f1 сильно отличаются во втором датасете, по сравнению с двумя другими , а учитывая что и запасы нефти в нем еще и меньше, вряд ли этот регион даст нам максимальную прибыль, но это узнаем позже). Пропусков d  наших данных нет, проверим их на дубликаты."
   ]
  },
  {
   "cell_type": "code",
   "execution_count": 8,
   "metadata": {},
   "outputs": [
    {
     "name": "stdout",
     "output_type": "stream",
     "text": [
      "10\n",
      "0\n",
      "4\n",
      "0\n",
      "4\n",
      "0\n"
     ]
    }
   ],
   "source": [
    "print(df['id'].duplicated(keep='first').sum())\n",
    "print(df.duplicated(keep='first').sum())\n",
    "print(df_1['id'].duplicated(keep='first').sum())\n",
    "print(df_1.duplicated(keep='first').sum())\n",
    "print(df_2['id'].duplicated(keep='first').sum())\n",
    "print(df_2.duplicated(keep='first').sum())"
   ]
  },
  {
   "cell_type": "markdown",
   "metadata": {},
   "source": [
    "Как видим явных дубликатов нет, есть небольшое количество дубликатов по id — уникальному идентификатору скважины, но возможно это связано с нескольками замерами на одной и той же скважине. В любом случае их очень мало и удалять их нет смысла).Теперь посмотрим на корреляцию и ковариацию данных."
   ]
  },
  {
   "cell_type": "code",
   "execution_count": 9,
   "metadata": {},
   "outputs": [
    {
     "data": {
      "text/plain": [
       "<matplotlib.axes._subplots.AxesSubplot at 0x7f8e8693c750>"
      ]
     },
     "execution_count": 9,
     "metadata": {},
     "output_type": "execute_result"
    },
    {
     "data": {
      "image/png": "[encoded data removed]",
      "text/plain": [
       "<Figure size 1008x432 with 2 Axes>"
      ]
     },
     "metadata": {
      "needs_background": "light"
     },
     "output_type": "display_data"
    },
    {
     "data": {
      "image/png": "[encoded data removed]",
      "text/plain": [
       "<Figure size 1008x432 with 2 Axes>"
      ]
     },
     "metadata": {
      "needs_background": "light"
     },
     "output_type": "display_data"
    }
   ],
   "source": [
    "corr_matrix = df.drop(['id'], axis=1).corr()\n",
    "plt.figure(figsize=(14,6))\n",
    "plt.title('Матрица корреляций', fontsize=14)\n",
    "sns.heatmap(corr_matrix,annot=True)\n",
    "plt.figure(figsize=(14,6))\n",
    "plt.title('Матрица ковариаций', fontsize=14)\n",
    "sns.heatmap(df.cov(),annot=True,cmap='terrain')"
   ]
  },
  {
   "cell_type": "code",
   "execution_count": 10,
   "metadata": {},
   "outputs": [
    {
     "data": {
      "text/plain": [
       "<matplotlib.axes._subplots.AxesSubplot at 0x7f8e7e697ed0>"
      ]
     },
     "execution_count": 10,
     "metadata": {},
     "output_type": "execute_result"
    },
    {
     "data": {
      "image/png": "[encoded data removed]",
      "text/plain": [
       "<Figure size 1008x432 with 2 Axes>"
      ]
     },
     "metadata": {
      "needs_background": "light"
     },
     "output_type": "display_data"
    },
    {
     "data": {
      "image/png": "[encoded data removed]",
      "text/plain": [
       "<Figure size 1008x432 with 2 Axes>"
      ]
     },
     "metadata": {
      "needs_background": "light"
     },
     "output_type": "display_data"
    }
   ],
   "source": [
    "corr_matrix = df_1.drop(['id'], axis=1).corr()\n",
    "plt.figure(figsize=(14,6))\n",
    "plt.title('Матрица корреляций', fontsize=14)\n",
    "sns.heatmap(corr_matrix,annot=True)\n",
    "plt.figure(figsize=(14,6))\n",
    "plt.title('Матрица ковариаций', fontsize=14)\n",
    "sns.heatmap(df.cov(),annot=True,cmap='terrain')"
   ]
  },
  {
   "cell_type": "code",
   "execution_count": 11,
   "metadata": {},
   "outputs": [
    {
     "data": {
      "text/plain": [
       "<matplotlib.axes._subplots.AxesSubplot at 0x7f8e7de4ae10>"
      ]
     },
     "execution_count": 11,
     "metadata": {},
     "output_type": "execute_result"
    },
    {
     "data": {
      "image/png": "[encoded data removed]",
      "text/plain": [
       "<Figure size 1008x432 with 2 Axes>"
      ]
     },
     "metadata": {
      "needs_background": "light"
     },
     "output_type": "display_data"
    },
    {
     "data": {
      "image/png": "[encoded data removed]",
      "text/plain": [
       "<Figure size 1008x432 with 2 Axes>"
      ]
     },
     "metadata": {
      "needs_background": "light"
     },
     "output_type": "display_data"
    }
   ],
   "source": [
    "corr_matrix = df_2.drop(['id'], axis=1).corr()\n",
    "plt.figure(figsize=(14,6))\n",
    "plt.title('Матрица корреляций', fontsize=14)\n",
    "sns.heatmap(corr_matrix,annot=True)\n",
    "plt.figure(figsize=(14,6))\n",
    "plt.title('Матрица ковариаций', fontsize=14)\n",
    "sns.heatmap(df.cov(),annot=True,cmap='terrain')"
   ]
  },
  {
   "cell_type": "markdown",
   "metadata": {},
   "source": [
    "Существует кореляция между признаком f2 и product около 0,5 в  первом и третьем датасете и 100 % во втором, поэтому мы можем его удалить.(но сделаем это чуть позже)"
   ]
  },
  {
   "cell_type": "markdown",
   "metadata": {},
   "source": [
    "Посмотрим каковы выбросы в наших регионах, для этого построим диаграмму размаха для наших признаков."
   ]
  },
  {
   "cell_type": "code",
   "execution_count": 12,
   "metadata": {},
   "outputs": [
    {
     "data": {
      "image/png": "[encoded data removed]",
      "text/plain": [
       "<Figure size 1440x1080 with 12 Axes>"
      ]
     },
     "metadata": {
      "needs_background": "light"
     },
     "output_type": "display_data"
    }
   ],
   "source": [
    "fig,ax = plt.subplots(3,4,figsize = (20,15))\n",
    "\n",
    "region = ['first_region','second_region',\"region_region\"]\n",
    "name_column = df.columns[1:]\n",
    "name_column_with_columns = zip(df.columns[1:],range(4))\n",
    "df_with_rows = zip([df,df_1,df_2],range(3))\n",
    "for column in list(itertools.product(df_with_rows,name_column_with_columns)):\n",
    "    ax[column[0][1]][column[1][1]].boxplot(column[0][0][column[1][0]])\n",
    "for row in range(3): # Добавим название региона на графике\n",
    "    ax[row][0].set_ylabel(region[row])\n",
    "for column in range(4): # Добавим название параметра скважины на графике\n",
    "    ax[0][column].set_title(name_column[column])\n"
   ]
  },
  {
   "cell_type": "markdown",
   "metadata": {},
   "source": [
    "Мы видим выбросы для параметра f2 в первом регионе, f1 для второго региона, и для всех параметров в третьем регионе. напишем функцию для удаления выбросов . Сначала посчитаем 0,25 и 0,75 кванитили(которые уже и так посчитаны в describe:))и умножим их на 1,5 чтобы опредилить границы \"усов\". Затем запишем индесы с выбросами анализируемых нами параметров и проверим их длину .На выход передадим массив с индесами строк с выбросами"
   ]
  },
  {
   "cell_type": "code",
   "execution_count": 13,
   "metadata": {},
   "outputs": [],
   "source": [
    "def remove_release(dfs,columns):\n",
    "    q25=np.array(dfs[columns].quantile(0.25))\n",
    "    \n",
    "    q75=np.array(dfs[columns].quantile(0.75))\n",
    "    first_part=q25-1.5*(q75-q25)\n",
    "    second_part=q75+1.5*(q75-q25)\n",
    "    del_index = []\n",
    "    for index_value, value in zip(dfs[columns].index,dfs[columns]):\n",
    "        if second_part <= value or value <= first_part:\n",
    "            del_index.append(index_value)\n",
    "    \n",
    "    print('Количество строк, выбранных для удаления: ',len(del_index))\n",
    "    return del_index"
   ]
  },
  {
   "cell_type": "markdown",
   "metadata": {},
   "source": [
    "Передадим в переменную release (выбросы) значения параметров и датафремов с выбросами, за исключение f2 из df_2,который мы и так решили удалить))."
   ]
  },
  {
   "cell_type": "code",
   "execution_count": 14,
   "metadata": {},
   "outputs": [
    {
     "name": "stdout",
     "output_type": "stream",
     "text": [
      "Количество строк, выбранных для удаления:  506\n",
      "Количество строк, выбранных для удаления:  636\n",
      "Количество строк, выбранных для удаления:  733\n",
      "Количество строк, выбранных для удаления:  682\n"
     ]
    }
   ],
   "source": [
    "release = [(df,'f2'),(df_1,'f1'),(df_2,'f0'),(df_2,'f1')]\n",
    "for data,column in release:\n",
    "    indexes = remove_release(data,column)\n",
    "    data.drop(indexes,axis = 0,inplace = True)\n"
   ]
  },
  {
   "cell_type": "markdown",
   "metadata": {},
   "source": [
    "Количество выбросов незначительно, качество наших датасетов сильно не пострадает.Тепреь можно и удалить скореллированный столбец f2 из df_2."
   ]
  },
  {
   "cell_type": "code",
   "execution_count": 15,
   "metadata": {},
   "outputs": [],
   "source": [
    "df = df.reset_index(drop = True)\n",
    "df_1 = df_1.reset_index(drop = True)\n",
    "df_2 = df_2.reset_index(drop = True)"
   ]
  },
  {
   "cell_type": "markdown",
   "metadata": {},
   "source": [
    "Проверим, все ли получилось)"
   ]
  },
  {
   "cell_type": "code",
   "execution_count": 16,
   "metadata": {},
   "outputs": [
    {
     "data": {
      "text/html": [
       "<div>\n",
       "<style scoped>\n",
       "    .dataframe tbody tr th:only-of-type {\n",
       "        vertical-align: middle;\n",
       "    }\n",
       "\n",
       "    .dataframe tbody tr th {\n",
       "        vertical-align: top;\n",
       "    }\n",
       "\n",
       "    .dataframe thead th {\n",
       "        text-align: right;\n",
       "    }\n",
       "</style>\n",
       "<table border=\"1\" class=\"dataframe\">\n",
       "  <thead>\n",
       "    <tr style=\"text-align: right;\">\n",
       "      <th></th>\n",
       "      <th>f0</th>\n",
       "      <th>f1</th>\n",
       "      <th>f2</th>\n",
       "      <th>product</th>\n",
       "    </tr>\n",
       "  </thead>\n",
       "  <tbody>\n",
       "    <tr>\n",
       "      <td>count</td>\n",
       "      <td>99,494.00</td>\n",
       "      <td>99,494.00</td>\n",
       "      <td>99,494.00</td>\n",
       "      <td>99,494.00</td>\n",
       "    </tr>\n",
       "    <tr>\n",
       "      <td>mean</td>\n",
       "      <td>0.50</td>\n",
       "      <td>0.25</td>\n",
       "      <td>2.50</td>\n",
       "      <td>92.50</td>\n",
       "    </tr>\n",
       "    <tr>\n",
       "      <td>std</td>\n",
       "      <td>0.87</td>\n",
       "      <td>0.50</td>\n",
       "      <td>3.18</td>\n",
       "      <td>44.23</td>\n",
       "    </tr>\n",
       "    <tr>\n",
       "      <td>min</td>\n",
       "      <td>-1.41</td>\n",
       "      <td>-0.85</td>\n",
       "      <td>-6.35</td>\n",
       "      <td>0.00</td>\n",
       "    </tr>\n",
       "    <tr>\n",
       "      <td>25%</td>\n",
       "      <td>-0.07</td>\n",
       "      <td>-0.20</td>\n",
       "      <td>0.30</td>\n",
       "      <td>56.57</td>\n",
       "    </tr>\n",
       "    <tr>\n",
       "      <td>50%</td>\n",
       "      <td>0.50</td>\n",
       "      <td>0.25</td>\n",
       "      <td>2.52</td>\n",
       "      <td>91.84</td>\n",
       "    </tr>\n",
       "    <tr>\n",
       "      <td>75%</td>\n",
       "      <td>1.07</td>\n",
       "      <td>0.70</td>\n",
       "      <td>4.70</td>\n",
       "      <td>128.52</td>\n",
       "    </tr>\n",
       "    <tr>\n",
       "      <td>max</td>\n",
       "      <td>2.36</td>\n",
       "      <td>1.34</td>\n",
       "      <td>11.35</td>\n",
       "      <td>185.36</td>\n",
       "    </tr>\n",
       "  </tbody>\n",
       "</table>\n",
       "</div>"
      ],
      "text/plain": [
       "             f0        f1        f2   product\n",
       "count 99,494.00 99,494.00 99,494.00 99,494.00\n",
       "mean       0.50      0.25      2.50     92.50\n",
       "std        0.87      0.50      3.18     44.23\n",
       "min       -1.41     -0.85     -6.35      0.00\n",
       "25%       -0.07     -0.20      0.30     56.57\n",
       "50%        0.50      0.25      2.52     91.84\n",
       "75%        1.07      0.70      4.70    128.52\n",
       "max        2.36      1.34     11.35    185.36"
      ]
     },
     "execution_count": 16,
     "metadata": {},
     "output_type": "execute_result"
    }
   ],
   "source": [
    "df.describe()"
   ]
  },
  {
   "cell_type": "code",
   "execution_count": 17,
   "metadata": {},
   "outputs": [
    {
     "data": {
      "text/html": [
       "<div>\n",
       "<style scoped>\n",
       "    .dataframe tbody tr th:only-of-type {\n",
       "        vertical-align: middle;\n",
       "    }\n",
       "\n",
       "    .dataframe tbody tr th {\n",
       "        vertical-align: top;\n",
       "    }\n",
       "\n",
       "    .dataframe thead th {\n",
       "        text-align: right;\n",
       "    }\n",
       "</style>\n",
       "<table border=\"1\" class=\"dataframe\">\n",
       "  <thead>\n",
       "    <tr style=\"text-align: right;\">\n",
       "      <th></th>\n",
       "      <th>f0</th>\n",
       "      <th>f1</th>\n",
       "      <th>f2</th>\n",
       "      <th>product</th>\n",
       "    </tr>\n",
       "  </thead>\n",
       "  <tbody>\n",
       "    <tr>\n",
       "      <td>count</td>\n",
       "      <td>98,585.00</td>\n",
       "      <td>98,585.00</td>\n",
       "      <td>98,585.00</td>\n",
       "      <td>98,585.00</td>\n",
       "    </tr>\n",
       "    <tr>\n",
       "      <td>mean</td>\n",
       "      <td>0.00</td>\n",
       "      <td>-0.00</td>\n",
       "      <td>2.49</td>\n",
       "      <td>94.76</td>\n",
       "    </tr>\n",
       "    <tr>\n",
       "      <td>std</td>\n",
       "      <td>1.68</td>\n",
       "      <td>1.68</td>\n",
       "      <td>3.47</td>\n",
       "      <td>44.74</td>\n",
       "    </tr>\n",
       "    <tr>\n",
       "      <td>min</td>\n",
       "      <td>-4.64</td>\n",
       "      <td>-4.68</td>\n",
       "      <td>-11.97</td>\n",
       "      <td>0.00</td>\n",
       "    </tr>\n",
       "    <tr>\n",
       "      <td>25%</td>\n",
       "      <td>-1.15</td>\n",
       "      <td>-1.16</td>\n",
       "      <td>0.13</td>\n",
       "      <td>59.25</td>\n",
       "    </tr>\n",
       "    <tr>\n",
       "      <td>50%</td>\n",
       "      <td>0.01</td>\n",
       "      <td>-0.01</td>\n",
       "      <td>2.48</td>\n",
       "      <td>94.66</td>\n",
       "    </tr>\n",
       "    <tr>\n",
       "      <td>75%</td>\n",
       "      <td>1.15</td>\n",
       "      <td>1.15</td>\n",
       "      <td>4.86</td>\n",
       "      <td>130.36</td>\n",
       "    </tr>\n",
       "    <tr>\n",
       "      <td>max</td>\n",
       "      <td>4.64</td>\n",
       "      <td>4.67</td>\n",
       "      <td>16.74</td>\n",
       "      <td>190.03</td>\n",
       "    </tr>\n",
       "  </tbody>\n",
       "</table>\n",
       "</div>"
      ],
      "text/plain": [
       "             f0        f1        f2   product\n",
       "count 98,585.00 98,585.00 98,585.00 98,585.00\n",
       "mean       0.00     -0.00      2.49     94.76\n",
       "std        1.68      1.68      3.47     44.74\n",
       "min       -4.64     -4.68    -11.97      0.00\n",
       "25%       -1.15     -1.16      0.13     59.25\n",
       "50%        0.01     -0.01      2.48     94.66\n",
       "75%        1.15      1.15      4.86    130.36\n",
       "max        4.64      4.67     16.74    190.03"
      ]
     },
     "execution_count": 17,
     "metadata": {},
     "output_type": "execute_result"
    }
   ],
   "source": [
    "df_2.describe()"
   ]
  },
  {
   "cell_type": "code",
   "execution_count": 18,
   "metadata": {},
   "outputs": [],
   "source": [
    "#drop_df_1 = df_1.drop(['f2'],axis = 1) #удалим скорелированный  столбец f2"
   ]
  },
  {
   "cell_type": "code",
   "execution_count": 19,
   "metadata": {},
   "outputs": [
    {
     "data": {
      "text/html": [
       "<div>\n",
       "<style scoped>\n",
       "    .dataframe tbody tr th:only-of-type {\n",
       "        vertical-align: middle;\n",
       "    }\n",
       "\n",
       "    .dataframe tbody tr th {\n",
       "        vertical-align: top;\n",
       "    }\n",
       "\n",
       "    .dataframe thead th {\n",
       "        text-align: right;\n",
       "    }\n",
       "</style>\n",
       "<table border=\"1\" class=\"dataframe\">\n",
       "  <thead>\n",
       "    <tr style=\"text-align: right;\">\n",
       "      <th></th>\n",
       "      <th>f0</th>\n",
       "      <th>f1</th>\n",
       "      <th>f2</th>\n",
       "      <th>product</th>\n",
       "    </tr>\n",
       "  </thead>\n",
       "  <tbody>\n",
       "    <tr>\n",
       "      <td>count</td>\n",
       "      <td>99,364.00</td>\n",
       "      <td>99,364.00</td>\n",
       "      <td>99,364.00</td>\n",
       "      <td>99,364.00</td>\n",
       "    </tr>\n",
       "    <tr>\n",
       "      <td>mean</td>\n",
       "      <td>1.14</td>\n",
       "      <td>-4.80</td>\n",
       "      <td>2.49</td>\n",
       "      <td>68.81</td>\n",
       "    </tr>\n",
       "    <tr>\n",
       "      <td>std</td>\n",
       "      <td>8.97</td>\n",
       "      <td>4.98</td>\n",
       "      <td>1.70</td>\n",
       "      <td>45.93</td>\n",
       "    </tr>\n",
       "    <tr>\n",
       "      <td>min</td>\n",
       "      <td>-31.61</td>\n",
       "      <td>-18.67</td>\n",
       "      <td>-0.02</td>\n",
       "      <td>0.00</td>\n",
       "    </tr>\n",
       "    <tr>\n",
       "      <td>25%</td>\n",
       "      <td>-6.30</td>\n",
       "      <td>-8.25</td>\n",
       "      <td>1.00</td>\n",
       "      <td>26.95</td>\n",
       "    </tr>\n",
       "    <tr>\n",
       "      <td>50%</td>\n",
       "      <td>1.15</td>\n",
       "      <td>-4.82</td>\n",
       "      <td>2.01</td>\n",
       "      <td>57.09</td>\n",
       "    </tr>\n",
       "    <tr>\n",
       "      <td>75%</td>\n",
       "      <td>8.62</td>\n",
       "      <td>-1.36</td>\n",
       "      <td>4.00</td>\n",
       "      <td>107.81</td>\n",
       "    </tr>\n",
       "    <tr>\n",
       "      <td>max</td>\n",
       "      <td>29.42</td>\n",
       "      <td>9.05</td>\n",
       "      <td>5.02</td>\n",
       "      <td>137.95</td>\n",
       "    </tr>\n",
       "  </tbody>\n",
       "</table>\n",
       "</div>"
      ],
      "text/plain": [
       "             f0        f1        f2   product\n",
       "count 99,364.00 99,364.00 99,364.00 99,364.00\n",
       "mean       1.14     -4.80      2.49     68.81\n",
       "std        8.97      4.98      1.70     45.93\n",
       "min      -31.61    -18.67     -0.02      0.00\n",
       "25%       -6.30     -8.25      1.00     26.95\n",
       "50%        1.15     -4.82      2.01     57.09\n",
       "75%        8.62     -1.36      4.00    107.81\n",
       "max       29.42      9.05      5.02    137.95"
      ]
     },
     "execution_count": 19,
     "metadata": {},
     "output_type": "execute_result"
    }
   ],
   "source": [
    "#drop_df_1.describe()\n",
    "df_1.describe()"
   ]
  },
  {
   "cell_type": "markdown",
   "metadata": {},
   "source": [
    "Данные подготовлены, можно строить модели)"
   ]
  },
  {
   "cell_type": "markdown",
   "metadata": {},
   "source": [
    "## Обучение и проверка модели"
   ]
  },
  {
   "cell_type": "markdown",
   "metadata": {},
   "source": [
    "Построим модель для первого региона, подготовим выборки, посчитаем RMSE."
   ]
  },
  {
   "cell_type": "code",
   "execution_count": 20,
   "metadata": {},
   "outputs": [],
   "source": [
    "features = df.drop(['id','product'], axis = 1)\n",
    "target = df['product']"
   ]
  },
  {
   "cell_type": "code",
   "execution_count": 21,
   "metadata": {},
   "outputs": [],
   "source": [
    "features_train,features_valid,target_train,target_valid = train_test_split(features,target,test_size = 0.25,random_state = 12345)"
   ]
  },
  {
   "cell_type": "code",
   "execution_count": 22,
   "metadata": {},
   "outputs": [
    {
     "name": "stdout",
     "output_type": "stream",
     "text": [
      "Длина  74620\n",
      "Длина  24874\n",
      "Длина  74620\n",
      "Длина  24874\n"
     ]
    }
   ],
   "source": [
    "for i in features_train, features_valid, target_train,target_valid :\n",
    "    print(f'Длина ',len(i))"
   ]
  },
  {
   "cell_type": "markdown",
   "metadata": {},
   "source": [
    "На всякий случай посмотрим что вышло) и после этого отмасштабируем признак f2"
   ]
  },
  {
   "cell_type": "code",
   "execution_count": 23,
   "metadata": {},
   "outputs": [
    {
     "data": {
      "text/html": [
       "<div>\n",
       "<style scoped>\n",
       "    .dataframe tbody tr th:only-of-type {\n",
       "        vertical-align: middle;\n",
       "    }\n",
       "\n",
       "    .dataframe tbody tr th {\n",
       "        vertical-align: top;\n",
       "    }\n",
       "\n",
       "    .dataframe thead th {\n",
       "        text-align: right;\n",
       "    }\n",
       "</style>\n",
       "<table border=\"1\" class=\"dataframe\">\n",
       "  <thead>\n",
       "    <tr style=\"text-align: right;\">\n",
       "      <th></th>\n",
       "      <th>f0</th>\n",
       "      <th>f1</th>\n",
       "      <th>f2</th>\n",
       "    </tr>\n",
       "  </thead>\n",
       "  <tbody>\n",
       "    <tr>\n",
       "      <td>count</td>\n",
       "      <td>74,620.00</td>\n",
       "      <td>74,620.00</td>\n",
       "      <td>74,620.00</td>\n",
       "    </tr>\n",
       "    <tr>\n",
       "      <td>mean</td>\n",
       "      <td>0.50</td>\n",
       "      <td>0.25</td>\n",
       "      <td>0.00</td>\n",
       "    </tr>\n",
       "    <tr>\n",
       "      <td>std</td>\n",
       "      <td>0.87</td>\n",
       "      <td>0.50</td>\n",
       "      <td>1.00</td>\n",
       "    </tr>\n",
       "    <tr>\n",
       "      <td>min</td>\n",
       "      <td>-1.41</td>\n",
       "      <td>-0.85</td>\n",
       "      <td>-2.78</td>\n",
       "    </tr>\n",
       "    <tr>\n",
       "      <td>25%</td>\n",
       "      <td>-0.08</td>\n",
       "      <td>-0.20</td>\n",
       "      <td>-0.69</td>\n",
       "    </tr>\n",
       "    <tr>\n",
       "      <td>50%</td>\n",
       "      <td>0.50</td>\n",
       "      <td>0.25</td>\n",
       "      <td>0.00</td>\n",
       "    </tr>\n",
       "    <tr>\n",
       "      <td>75%</td>\n",
       "      <td>1.07</td>\n",
       "      <td>0.70</td>\n",
       "      <td>0.69</td>\n",
       "    </tr>\n",
       "    <tr>\n",
       "      <td>max</td>\n",
       "      <td>2.33</td>\n",
       "      <td>1.34</td>\n",
       "      <td>2.78</td>\n",
       "    </tr>\n",
       "  </tbody>\n",
       "</table>\n",
       "</div>"
      ],
      "text/plain": [
       "             f0        f1        f2\n",
       "count 74,620.00 74,620.00 74,620.00\n",
       "mean       0.50      0.25      0.00\n",
       "std        0.87      0.50      1.00\n",
       "min       -1.41     -0.85     -2.78\n",
       "25%       -0.08     -0.20     -0.69\n",
       "50%        0.50      0.25      0.00\n",
       "75%        1.07      0.70      0.69\n",
       "max        2.33      1.34      2.78"
      ]
     },
     "execution_count": 23,
     "metadata": {},
     "output_type": "execute_result"
    }
   ],
   "source": [
    "numeric = ['f2']\n",
    "scaler = StandardScaler()\n",
    "scaler.fit(features_train[numeric])\n",
    "features_train[numeric] = scaler.transform(features_train[numeric])\n",
    "features_valid[numeric] = scaler.transform(features_valid[numeric])\n",
    "features_train.describe()"
   ]
  },
  {
   "cell_type": "code",
   "execution_count": 24,
   "metadata": {},
   "outputs": [],
   "source": [
    "model = LinearRegression()\n",
    "model.fit(features_train, target_train)\n",
    "predicted_valid = model.predict(features_valid)"
   ]
  },
  {
   "cell_type": "code",
   "execution_count": 25,
   "metadata": {},
   "outputs": [
    {
     "name": "stdout",
     "output_type": "stream",
     "text": [
      "Регион 1 RMSE = 37.922930890531454\n",
      "Средний запас регион 1: 92.72476770114889\n"
     ]
    }
   ],
   "source": [
    "rmse = mean_squared_error(target_valid, predicted_valid)**0.5\n",
    "print(\"Регион 1 RMSE =\", rmse)\n",
    "print('Средний запас регион 1:',predicted_valid.mean())"
   ]
  },
  {
   "cell_type": "markdown",
   "metadata": {},
   "source": [
    "Сделаем тоже для второго региона."
   ]
  },
  {
   "cell_type": "code",
   "execution_count": 26,
   "metadata": {},
   "outputs": [
    {
     "name": "stdout",
     "output_type": "stream",
     "text": [
      "Регион 2 RMSE = 0.889447814640159\n",
      "Средний запас регион 2: 68.59166978153503\n"
     ]
    }
   ],
   "source": [
    "#features_1 = drop_df_1.drop(['id','product'], axis = 1)\n",
    "#target_1 = drop_df_1['product']\n",
    "features_1 = df_1.drop(['id','product'], axis = 1)\n",
    "target_1 = df_1['product']\n",
    "features_train_1,features_valid_1,target_train_1,target_valid_1 = train_test_split(features_1,target_1,test_size = 0.25,random_state = 12345)\n",
    "numeric = ['f0','f1']\n",
    "scaler.fit(features_train[numeric])\n",
    "features_train_1[numeric] = scaler.transform(features_train_1[numeric])\n",
    "features_valid_1[numeric] = scaler.transform(features_valid_1[numeric])\n",
    "features_train_1.describe()\n",
    "model_1 = LinearRegression()\n",
    "model_1.fit(features_train_1, target_train_1)\n",
    "predicted_valid_1 = model_1.predict(features_valid_1)\n",
    "rmse_1 = mean_squared_error(target_valid_1, predicted_valid_1)**0.5\n",
    "print(\"Регион 2 RMSE =\", rmse_1)\n",
    "print('Средний запас регион 2:',predicted_valid_1.mean())"
   ]
  },
  {
   "cell_type": "markdown",
   "metadata": {},
   "source": [
    "И для последнего, третьего региона."
   ]
  },
  {
   "cell_type": "code",
   "execution_count": 27,
   "metadata": {},
   "outputs": [
    {
     "name": "stdout",
     "output_type": "stream",
     "text": [
      "Регион 3 RMSE = 40.10443310893119\n",
      "Средний запас регион 3: 95.03338341499384\n"
     ]
    }
   ],
   "source": [
    "features_2 = df_2.drop(['id','product'], axis = 1)\n",
    "target_2 = df_2['product']\n",
    "features_train_2,features_valid_2,target_train_2,target_valid_2 = train_test_split(features_2,target_2,test_size = 0.25,random_state = 12345)\n",
    "numeric = ['f2']\n",
    "scaler.fit(features_train[numeric])\n",
    "features_train_2[numeric] = scaler.transform(features_train_2[numeric])\n",
    "features_valid_2[numeric] = scaler.transform(features_valid_2[numeric])\n",
    "features_train_2.describe()\n",
    "model_2 = LinearRegression()\n",
    "model_2.fit(features_train_2, target_train_2)\n",
    "predicted_valid_2 = model_2.predict(features_valid_2)\n",
    "rmse_2 = mean_squared_error(target_valid_2, predicted_valid_2)**0.5\n",
    "print(\"Регион 3 RMSE =\", rmse_2)\n",
    "print('Средний запас регион 3:',predicted_valid_2.mean())"
   ]
  },
  {
   "cell_type": "markdown",
   "metadata": {},
   "source": [
    "В первом регионе среднеквадратическая ошибка меньше всего, но по среднему объему запасов регион на втором месте.\n",
    "Второй регион как мы и предполагили в аутсайдерах по запаса и дает самую большую ошибку. Третий регион имеет самый большой средний объем запасов, но по среднеквадратической ошибке на втором месте."
   ]
  },
  {
   "cell_type": "markdown",
   "metadata": {},
   "source": [
    "## Подготовка к расчёту прибыли"
   ]
  },
  {
   "cell_type": "markdown",
   "metadata": {},
   "source": [
    "Зная стоимость барреля, количество буровых скважин и общий бюджет на их разработку посчитаем минимальное количество запасов нефти в одной скважине при котором разработка будет не убыточной."
   ]
  },
  {
   "cell_type": "code",
   "execution_count": 28,
   "metadata": {},
   "outputs": [
    {
     "data": {
      "text/plain": [
       "111.11111111111111"
      ]
     },
     "metadata": {},
     "output_type": "display_data"
    }
   ],
   "source": [
    "region_budget = 10000000000\n",
    "total_boreholes = 500\n",
    "final_boreholes = 200\n",
    "barrel_price = 450\n",
    "loss_probability =  0.025\n",
    "non_loss_probability = (region_budget/(barrel_price*1000))/final_boreholes\n",
    "display(non_loss_probability)"
   ]
  },
  {
   "cell_type": "markdown",
   "metadata": {},
   "source": [
    "Минимальное количество тысяч тонн баррелей нефти для безубыточной разработки составило 111.(1)"
   ]
  },
  {
   "cell_type": "code",
   "execution_count": 29,
   "metadata": {},
   "outputs": [
    {
     "name": "stdout",
     "output_type": "stream",
     "text": [
      "Процент прибыльных для разработки скважин в 1 регионе 36.54\n",
      "Процент прибыльных для разработки скважин во 2 регионе 16.5\n",
      "Процент прибыльных для разработки скважин в 3 регионе 37.66\n"
     ]
    }
   ],
   "source": [
    "print('Процент прибыльных для разработки скважин в 1 регионе', round(len(df.query('product > 111.112'))*100/len(df),2) )\n",
    "#print('Процент прибыльных для разработки скважин во 2 регионе', round(len(drop_df_1.query('product > 111.112'))*100/len(df),2) )\n",
    "print('Процент прибыльных для разработки скважин во 2 регионе', round(len(df_1.query('product > 111.112'))*100/len(df),2) )\n",
    "print('Процент прибыльных для разработки скважин в 3 регионе', round(len(df_2.query('product > 111.112'))*100/len(df),2) )"
   ]
  },
  {
   "cell_type": "markdown",
   "metadata": {},
   "source": [
    "Первый и третий регион по прежнему привлекательнее, хотя среднее зачения в этих регионах ниже точки безубыточности, но они почти в 1,5 раза больше среднего во втором регионе."
   ]
  },
  {
   "cell_type": "markdown",
   "metadata": {},
   "source": [
    "## Расчёт прибыли и рисков "
   ]
  },
  {
   "cell_type": "markdown",
   "metadata": {},
   "source": [
    "Напишем функцию для расчёта прибыли по выбранным скважинам и предсказаниям модели"
   ]
  },
  {
   "cell_type": "code",
   "execution_count": 30,
   "metadata": {},
   "outputs": [],
   "source": [
    "def income(true_target, predicted_target):\n",
    "    sort_boreholes = pd.Series(predicted_target).sort_values(ascending=False)[:final_boreholes]\n",
    "    true_target_sort = true_target.reset_index(drop = True)[sort_boreholes.index]\n",
    "    sum_true = true_target_sort.sum() \n",
    "    return round((sum_true* barrel_price*1000) - region_budget,2 )"
   ]
  },
  {
   "cell_type": "code",
   "execution_count": 31,
   "metadata": {},
   "outputs": [
    {
     "name": "stdout",
     "output_type": "stream",
     "text": [
      "Прибыль с лучших 200 скважин в первом регионе: 3346905536.45\n",
      "Прибыль с лучших 200 скважин во втором регионе: 2415086696.68\n",
      "Прибыль с лучших 200 скважин в третьем регионе: 2662703635.38\n"
     ]
    }
   ],
   "source": [
    "print(\"Прибыль с лучших 200 скважин в первом регионе:\",income(target_valid ,predicted_valid))\n",
    "print(\"Прибыль с лучших 200 скважин во втором регионе:\",income(target_valid_1 ,predicted_valid_1))\n",
    "print(\"Прибыль с лучших 200 скважин в третьем регионе:\",income(target_valid_2 ,predicted_valid_2))"
   ]
  },
  {
   "cell_type": "markdown",
   "metadata": {},
   "source": [
    "Посчитаем риски и прибыль для каждого региона, оформим это в виде функции в которой применим технику Bootstrap с 1000 выборок, а для подсчета прибыли используем написааную  ранее функцию income. Риск убытков это доля всех скважин с отрицательным значений прибыли от их общего числа."
   ]
  },
  {
   "cell_type": "code",
   "execution_count": 32,
   "metadata": {},
   "outputs": [],
   "source": [
    " def confidence_interval(true_target, predicted_target):\n",
    "    state = RandomState(100)    \n",
    "    values = []\n",
    "    for i in range(1000):\n",
    "        value = pd.Series(predicted_target).sample(n = total_boreholes, replace=True, random_state=state)\n",
    "        values.append(income(true_target,value))\n",
    "    values = pd.Series(values)\n",
    "    print('Cредняя прибыль',values.mean())\n",
    "#    print('Риск убытков',values.apply(lambda x: x < 0).sum()/len(values)*100,\"%\" )\n",
    "    print(f\"Риск убытков {(values<0).mean()}\")\n",
    "    lower = values.quantile(0.025)\n",
    "    upper = values.quantile(0.975)\n",
    "#    confidence_interval = st.t.interval(0.95, len(values)-1,values.mean(),values.sem()) № так красиво), но нам не подходит))\n",
    "#    print(\"95%-ый доверительный интервал:\", confidence_interval)\n",
    "    return round(lower,2), round(upper,2)"
   ]
  },
  {
   "cell_type": "code",
   "execution_count": 33,
   "metadata": {},
   "outputs": [
    {
     "name": "stdout",
     "output_type": "stream",
     "text": [
      "Cредняя прибыль 374431684.19216\n",
      "Риск убытков 0.073\n",
      "95% доверительный интервал для  региона 1 лежит между: (-152670573.89, 865680639.01)\n",
      "Cредняя прибыль 452598364.23249\n",
      "Риск убытков 0.008\n",
      "95% доверительный интервал для  региона 2 лежит между: (70989574.69, 820230104.87)\n",
      "Cредняя прибыль 359439885.97696996\n",
      "Риск убытков 0.102\n",
      "95% доверительный интервал для  региона 3 лежит между: (-175748101.36, 906452946.8)\n"
     ]
    }
   ],
   "source": [
    "print(\"95% доверительный интервал для  региона 1 лежит между:\",confidence_interval(target_valid ,predicted_valid))\n",
    "print(\"95% доверительный интервал для  региона 2 лежит между:\",confidence_interval(target_valid_1 ,predicted_valid_1))\n",
    "print(\"95% доверительный интервал для  региона 3 лежит между:\",confidence_interval(target_valid_2 ,predicted_valid_2))"
   ]
  },
  {
   "cell_type": "markdown",
   "metadata": {},
   "source": [
    "Оказалось мы ошиблись при первичном анализе, регион 2 оказался самым переспективным,  вероятностью убытка там всего лишь 0,8% н. Первый и третий регион не подходят нашим условиям ."
   ]
  }
 ],
 "metadata": {
  "ExecuteTimeLog": [
   {
    "duration": 1511,
    "start_time": "2022-03-01T08:53:49.253Z"
   },
   {
    "duration": 172,
    "start_time": "2022-03-01T08:54:59.761Z"
   },
   {
    "duration": 155,
    "start_time": "2022-03-01T08:55:42.538Z"
   },
   {
    "duration": 202,
    "start_time": "2022-03-01T08:56:25.064Z"
   },
   {
    "duration": 187,
    "start_time": "2022-03-01T08:56:57.019Z"
   },
   {
    "duration": 201,
    "start_time": "2022-03-01T08:57:28.275Z"
   },
   {
    "duration": 207,
    "start_time": "2022-03-01T08:57:38.900Z"
   },
   {
    "duration": 15,
    "start_time": "2022-03-01T08:58:42.894Z"
   },
   {
    "duration": 15,
    "start_time": "2022-03-01T08:59:08.621Z"
   },
   {
    "duration": 16,
    "start_time": "2022-03-01T08:59:23.468Z"
   },
   {
    "duration": 67,
    "start_time": "2022-03-02T12:31:00.156Z"
   },
   {
    "duration": 116,
    "start_time": "2022-03-02T12:32:27.178Z"
   },
   {
    "duration": 169,
    "start_time": "2022-03-02T12:32:37.861Z"
   },
   {
    "duration": 168,
    "start_time": "2022-03-02T12:32:49.765Z"
   },
   {
    "duration": 78,
    "start_time": "2022-03-02T12:33:23.510Z"
   },
   {
    "duration": 122,
    "start_time": "2022-03-02T12:33:34.862Z"
   },
   {
    "duration": 155,
    "start_time": "2022-03-02T12:34:06.327Z"
   },
   {
    "duration": 207,
    "start_time": "2022-03-02T12:36:52.361Z"
   },
   {
    "duration": 115,
    "start_time": "2022-03-02T12:43:59.446Z"
   },
   {
    "duration": 1015,
    "start_time": "2022-03-02T12:44:39.446Z"
   },
   {
    "duration": 999,
    "start_time": "2022-03-02T12:47:17.204Z"
   },
   {
    "duration": 1198,
    "start_time": "2022-03-02T12:47:53.731Z"
   },
   {
    "duration": 2764,
    "start_time": "2022-03-02T13:31:15.071Z"
   },
   {
    "duration": 2987,
    "start_time": "2022-03-02T13:31:41.785Z"
   },
   {
    "duration": 2526,
    "start_time": "2022-03-02T13:32:21.634Z"
   },
   {
    "duration": 2557,
    "start_time": "2022-03-02T13:32:53.874Z"
   },
   {
    "duration": 2590,
    "start_time": "2022-03-02T13:33:44.923Z"
   },
   {
    "duration": 7,
    "start_time": "2022-03-02T13:39:11.629Z"
   },
   {
    "duration": 2777,
    "start_time": "2022-03-02T13:40:56.441Z"
   },
   {
    "duration": 1525,
    "start_time": "2022-03-02T13:41:07.247Z"
   },
   {
    "duration": 204,
    "start_time": "2022-03-02T13:41:08.775Z"
   },
   {
    "duration": 192,
    "start_time": "2022-03-02T13:41:08.983Z"
   },
   {
    "duration": 195,
    "start_time": "2022-03-02T13:41:09.182Z"
   },
   {
    "duration": 13,
    "start_time": "2022-03-02T13:41:09.380Z"
   },
   {
    "duration": 17,
    "start_time": "2022-03-02T13:41:09.396Z"
   },
   {
    "duration": 14,
    "start_time": "2022-03-02T13:41:09.416Z"
   },
   {
    "duration": 329,
    "start_time": "2022-03-02T13:41:09.434Z"
   },
   {
    "duration": 1200,
    "start_time": "2022-03-02T13:41:09.767Z"
   },
   {
    "duration": 1036,
    "start_time": "2022-03-02T13:41:10.970Z"
   },
   {
    "duration": 1031,
    "start_time": "2022-03-02T13:41:12.009Z"
   },
   {
    "duration": 2966,
    "start_time": "2022-03-02T13:41:13.042Z"
   },
   {
    "duration": 613,
    "start_time": "2022-03-02T13:41:15.398Z"
   },
   {
    "duration": 1458,
    "start_time": "2022-03-02T13:55:45.601Z"
   },
   {
    "duration": 198,
    "start_time": "2022-03-02T13:55:47.062Z"
   },
   {
    "duration": 197,
    "start_time": "2022-03-02T13:55:47.266Z"
   },
   {
    "duration": 187,
    "start_time": "2022-03-02T13:55:47.465Z"
   },
   {
    "duration": 13,
    "start_time": "2022-03-02T13:55:47.654Z"
   },
   {
    "duration": 13,
    "start_time": "2022-03-02T13:55:47.683Z"
   },
   {
    "duration": 13,
    "start_time": "2022-03-02T13:55:47.699Z"
   },
   {
    "duration": 242,
    "start_time": "2022-03-02T13:55:47.715Z"
   },
   {
    "duration": 1092,
    "start_time": "2022-03-02T13:55:47.959Z"
   },
   {
    "duration": 1015,
    "start_time": "2022-03-02T13:55:49.054Z"
   },
   {
    "duration": 1053,
    "start_time": "2022-03-02T13:55:50.072Z"
   },
   {
    "duration": 2869,
    "start_time": "2022-03-02T13:55:51.127Z"
   },
   {
    "duration": 628,
    "start_time": "2022-03-02T13:55:53.372Z"
   },
   {
    "duration": 3619,
    "start_time": "2022-03-02T13:56:16.766Z"
   },
   {
    "duration": 2522,
    "start_time": "2022-03-02T13:57:12.025Z"
   },
   {
    "duration": 9,
    "start_time": "2022-03-02T14:00:49.372Z"
   },
   {
    "duration": 2310,
    "start_time": "2022-03-02T14:00:50.346Z"
   },
   {
    "duration": 9,
    "start_time": "2022-03-02T14:14:28.589Z"
   },
   {
    "duration": 9,
    "start_time": "2022-03-02T14:14:42.127Z"
   },
   {
    "duration": 7,
    "start_time": "2022-03-02T14:31:13.595Z"
   },
   {
    "duration": 6,
    "start_time": "2022-03-02T14:39:52.163Z"
   },
   {
    "duration": 81,
    "start_time": "2022-03-02T14:40:44.373Z"
   },
   {
    "duration": 6,
    "start_time": "2022-03-02T14:40:49.365Z"
   },
   {
    "duration": 98,
    "start_time": "2022-03-02T14:40:49.677Z"
   },
   {
    "duration": 90,
    "start_time": "2022-03-02T14:40:58.869Z"
   },
   {
    "duration": 75,
    "start_time": "2022-03-02T14:41:06.206Z"
   },
   {
    "duration": 271,
    "start_time": "2022-03-02T14:41:41.454Z"
   },
   {
    "duration": 318,
    "start_time": "2022-03-02T14:42:05.966Z"
   },
   {
    "duration": 282,
    "start_time": "2022-03-02T14:43:29.081Z"
   },
   {
    "duration": 1509,
    "start_time": "2022-03-02T14:43:51.274Z"
   },
   {
    "duration": 197,
    "start_time": "2022-03-02T14:43:52.786Z"
   },
   {
    "duration": 200,
    "start_time": "2022-03-02T14:43:52.986Z"
   },
   {
    "duration": 190,
    "start_time": "2022-03-02T14:43:53.189Z"
   },
   {
    "duration": 13,
    "start_time": "2022-03-02T14:43:53.383Z"
   },
   {
    "duration": 13,
    "start_time": "2022-03-02T14:43:53.398Z"
   },
   {
    "duration": 13,
    "start_time": "2022-03-02T14:43:53.413Z"
   },
   {
    "duration": 265,
    "start_time": "2022-03-02T14:43:53.430Z"
   },
   {
    "duration": 1058,
    "start_time": "2022-03-02T14:43:53.697Z"
   },
   {
    "duration": 1013,
    "start_time": "2022-03-02T14:43:54.757Z"
   },
   {
    "duration": 1076,
    "start_time": "2022-03-02T14:43:55.773Z"
   },
   {
    "duration": 2163,
    "start_time": "2022-03-02T14:43:56.853Z"
   },
   {
    "duration": 5,
    "start_time": "2022-03-02T14:43:59.019Z"
   },
   {
    "duration": 307,
    "start_time": "2022-03-02T14:43:59.026Z"
   },
   {
    "duration": 7,
    "start_time": "2022-03-02T14:43:59.336Z"
   },
   {
    "duration": 287,
    "start_time": "2022-03-02T14:46:34.538Z"
   },
   {
    "duration": 316,
    "start_time": "2022-03-02T14:46:54.178Z"
   },
   {
    "duration": 21,
    "start_time": "2022-03-02T14:46:58.980Z"
   },
   {
    "duration": 893,
    "start_time": "2022-03-02T14:47:05.805Z"
   },
   {
    "duration": 573,
    "start_time": "2022-03-02T14:47:56.756Z"
   },
   {
    "duration": 318,
    "start_time": "2022-03-02T14:48:04.396Z"
   },
   {
    "duration": 7,
    "start_time": "2022-03-02T14:50:01.614Z"
   },
   {
    "duration": 246,
    "start_time": "2022-03-02T14:50:02.798Z"
   },
   {
    "duration": 330,
    "start_time": "2022-03-02T14:50:22.839Z"
   },
   {
    "duration": 1430,
    "start_time": "2022-03-02T14:50:31.929Z"
   },
   {
    "duration": 197,
    "start_time": "2022-03-02T14:50:33.362Z"
   },
   {
    "duration": 193,
    "start_time": "2022-03-02T14:50:33.562Z"
   },
   {
    "duration": 200,
    "start_time": "2022-03-02T14:50:33.758Z"
   },
   {
    "duration": 23,
    "start_time": "2022-03-02T14:50:33.961Z"
   },
   {
    "duration": 28,
    "start_time": "2022-03-02T14:50:33.986Z"
   },
   {
    "duration": 14,
    "start_time": "2022-03-02T14:50:34.017Z"
   },
   {
    "duration": 254,
    "start_time": "2022-03-02T14:50:34.034Z"
   },
   {
    "duration": 1006,
    "start_time": "2022-03-02T14:50:34.291Z"
   },
   {
    "duration": 963,
    "start_time": "2022-03-02T14:50:35.301Z"
   },
   {
    "duration": 1082,
    "start_time": "2022-03-02T14:50:36.267Z"
   },
   {
    "duration": 2175,
    "start_time": "2022-03-02T14:50:37.352Z"
   },
   {
    "duration": 6,
    "start_time": "2022-03-02T14:50:39.530Z"
   },
   {
    "duration": 311,
    "start_time": "2022-03-02T14:50:39.539Z"
   },
   {
    "duration": 7,
    "start_time": "2022-03-02T14:50:39.852Z"
   },
   {
    "duration": 88,
    "start_time": "2022-03-02T14:52:12.781Z"
   },
   {
    "duration": 9,
    "start_time": "2022-03-02T14:52:18.500Z"
   },
   {
    "duration": 14,
    "start_time": "2022-03-02T14:52:46.750Z"
   },
   {
    "duration": 14,
    "start_time": "2022-03-02T14:53:50.599Z"
   },
   {
    "duration": 395,
    "start_time": "2022-03-02T14:54:14.247Z"
   },
   {
    "duration": 13,
    "start_time": "2022-03-02T14:54:18.912Z"
   },
   {
    "duration": 13,
    "start_time": "2022-03-02T14:54:35.560Z"
   },
   {
    "duration": 13,
    "start_time": "2022-03-02T14:54:41.703Z"
   },
   {
    "duration": 1438,
    "start_time": "2022-03-02T14:54:53.702Z"
   },
   {
    "duration": 193,
    "start_time": "2022-03-02T14:54:55.143Z"
   },
   {
    "duration": 194,
    "start_time": "2022-03-02T14:54:55.343Z"
   },
   {
    "duration": 197,
    "start_time": "2022-03-02T14:54:55.539Z"
   },
   {
    "duration": 14,
    "start_time": "2022-03-02T14:54:55.738Z"
   },
   {
    "duration": 33,
    "start_time": "2022-03-02T14:54:55.754Z"
   },
   {
    "duration": 13,
    "start_time": "2022-03-02T14:54:55.790Z"
   },
   {
    "duration": 230,
    "start_time": "2022-03-02T14:54:55.807Z"
   },
   {
    "duration": 1133,
    "start_time": "2022-03-02T14:54:56.040Z"
   },
   {
    "duration": 977,
    "start_time": "2022-03-02T14:54:57.176Z"
   },
   {
    "duration": 1101,
    "start_time": "2022-03-02T14:54:58.156Z"
   },
   {
    "duration": 2332,
    "start_time": "2022-03-02T14:54:59.259Z"
   },
   {
    "duration": 7,
    "start_time": "2022-03-02T14:55:01.594Z"
   },
   {
    "duration": 317,
    "start_time": "2022-03-02T14:55:01.603Z"
   },
   {
    "duration": 9,
    "start_time": "2022-03-02T14:55:01.923Z"
   },
   {
    "duration": 24,
    "start_time": "2022-03-02T14:55:01.935Z"
   },
   {
    "duration": 276,
    "start_time": "2022-03-02T14:55:55.020Z"
   },
   {
    "duration": 1455,
    "start_time": "2022-03-02T14:56:13.706Z"
   },
   {
    "duration": 203,
    "start_time": "2022-03-02T14:56:15.164Z"
   },
   {
    "duration": 189,
    "start_time": "2022-03-02T14:56:15.370Z"
   },
   {
    "duration": 192,
    "start_time": "2022-03-02T14:56:15.562Z"
   },
   {
    "duration": 26,
    "start_time": "2022-03-02T14:56:15.756Z"
   },
   {
    "duration": 14,
    "start_time": "2022-03-02T14:56:15.784Z"
   },
   {
    "duration": 23,
    "start_time": "2022-03-02T14:56:15.800Z"
   },
   {
    "duration": 238,
    "start_time": "2022-03-02T14:56:15.826Z"
   },
   {
    "duration": 995,
    "start_time": "2022-03-02T14:56:16.067Z"
   },
   {
    "duration": 987,
    "start_time": "2022-03-02T14:56:17.066Z"
   },
   {
    "duration": 1105,
    "start_time": "2022-03-02T14:56:18.056Z"
   },
   {
    "duration": 2214,
    "start_time": "2022-03-02T14:56:19.164Z"
   },
   {
    "duration": 9,
    "start_time": "2022-03-02T14:56:21.383Z"
   },
   {
    "duration": 313,
    "start_time": "2022-03-02T14:56:21.395Z"
   },
   {
    "duration": 8,
    "start_time": "2022-03-02T14:56:21.711Z"
   },
   {
    "duration": 18,
    "start_time": "2022-03-02T14:56:21.721Z"
   },
   {
    "duration": 373,
    "start_time": "2022-03-02T14:56:33.498Z"
   },
   {
    "duration": 232,
    "start_time": "2022-03-02T14:56:42.721Z"
   },
   {
    "duration": 256,
    "start_time": "2022-03-02T14:57:16.396Z"
   },
   {
    "duration": 538,
    "start_time": "2022-03-02T14:57:25.227Z"
   },
   {
    "duration": 1496,
    "start_time": "2022-03-02T14:57:35.984Z"
   },
   {
    "duration": 210,
    "start_time": "2022-03-02T14:57:37.485Z"
   },
   {
    "duration": 202,
    "start_time": "2022-03-02T14:57:37.698Z"
   },
   {
    "duration": 193,
    "start_time": "2022-03-02T14:57:37.903Z"
   },
   {
    "duration": 14,
    "start_time": "2022-03-02T14:57:38.099Z"
   },
   {
    "duration": 17,
    "start_time": "2022-03-02T14:57:38.116Z"
   },
   {
    "duration": 55,
    "start_time": "2022-03-02T14:57:38.135Z"
   },
   {
    "duration": 230,
    "start_time": "2022-03-02T14:57:38.193Z"
   },
   {
    "duration": 1106,
    "start_time": "2022-03-02T14:57:38.428Z"
   },
   {
    "duration": 1082,
    "start_time": "2022-03-02T14:57:39.536Z"
   },
   {
    "duration": 1131,
    "start_time": "2022-03-02T14:57:40.620Z"
   },
   {
    "duration": 2298,
    "start_time": "2022-03-02T14:57:41.754Z"
   },
   {
    "duration": 5,
    "start_time": "2022-03-02T14:57:44.055Z"
   },
   {
    "duration": 314,
    "start_time": "2022-03-02T14:57:44.063Z"
   },
   {
    "duration": 8,
    "start_time": "2022-03-02T14:57:44.383Z"
   },
   {
    "duration": 53,
    "start_time": "2022-03-02T14:57:44.393Z"
   },
   {
    "duration": 46,
    "start_time": "2022-03-02T14:58:15.256Z"
   },
   {
    "duration": 15,
    "start_time": "2022-03-02T15:01:23.790Z"
   },
   {
    "duration": 2220,
    "start_time": "2022-03-02T15:03:15.277Z"
   },
   {
    "duration": 302,
    "start_time": "2022-03-02T15:03:17.500Z"
   },
   {
    "duration": 308,
    "start_time": "2022-03-02T15:03:17.807Z"
   },
   {
    "duration": 305,
    "start_time": "2022-03-02T15:03:18.119Z"
   },
   {
    "duration": 20,
    "start_time": "2022-03-02T15:03:18.428Z"
   },
   {
    "duration": 40,
    "start_time": "2022-03-02T15:03:18.452Z"
   },
   {
    "duration": 21,
    "start_time": "2022-03-02T15:03:18.495Z"
   },
   {
    "duration": 322,
    "start_time": "2022-03-02T15:03:18.520Z"
   },
   {
    "duration": 1453,
    "start_time": "2022-03-02T15:03:18.849Z"
   },
   {
    "duration": 1077,
    "start_time": "2022-03-02T15:03:20.305Z"
   },
   {
    "duration": 1054,
    "start_time": "2022-03-02T15:03:21.384Z"
   },
   {
    "duration": 2166,
    "start_time": "2022-03-02T15:03:22.440Z"
   },
   {
    "duration": 8,
    "start_time": "2022-03-02T15:03:24.609Z"
   },
   {
    "duration": 294,
    "start_time": "2022-03-02T15:03:24.619Z"
   },
   {
    "duration": 14,
    "start_time": "2022-03-02T15:03:24.915Z"
   },
   {
    "duration": 64,
    "start_time": "2022-03-02T15:03:24.931Z"
   },
   {
    "duration": 45,
    "start_time": "2022-03-02T15:03:24.998Z"
   },
   {
    "duration": 7,
    "start_time": "2022-03-02T15:03:25.045Z"
   },
   {
    "duration": 6,
    "start_time": "2022-03-02T15:06:04.062Z"
   },
   {
    "duration": 278,
    "start_time": "2022-03-02T15:06:05.741Z"
   },
   {
    "duration": 1491,
    "start_time": "2022-03-02T15:06:16.080Z"
   },
   {
    "duration": 203,
    "start_time": "2022-03-02T15:06:17.574Z"
   },
   {
    "duration": 198,
    "start_time": "2022-03-02T15:06:17.785Z"
   },
   {
    "duration": 189,
    "start_time": "2022-03-02T15:06:17.986Z"
   },
   {
    "duration": 14,
    "start_time": "2022-03-02T15:06:18.181Z"
   },
   {
    "duration": 24,
    "start_time": "2022-03-02T15:06:18.197Z"
   },
   {
    "duration": 24,
    "start_time": "2022-03-02T15:06:18.224Z"
   },
   {
    "duration": 249,
    "start_time": "2022-03-02T15:06:18.252Z"
   },
   {
    "duration": 1068,
    "start_time": "2022-03-02T15:06:18.503Z"
   },
   {
    "duration": 1012,
    "start_time": "2022-03-02T15:06:19.574Z"
   },
   {
    "duration": 1072,
    "start_time": "2022-03-02T15:06:20.588Z"
   },
   {
    "duration": 2167,
    "start_time": "2022-03-02T15:06:21.663Z"
   },
   {
    "duration": 6,
    "start_time": "2022-03-02T15:06:23.832Z"
   },
   {
    "duration": 293,
    "start_time": "2022-03-02T15:06:23.841Z"
   },
   {
    "duration": 13,
    "start_time": "2022-03-02T15:06:24.137Z"
   },
   {
    "duration": 67,
    "start_time": "2022-03-02T15:06:24.153Z"
   },
   {
    "duration": 43,
    "start_time": "2022-03-02T15:06:24.222Z"
   },
   {
    "duration": 19,
    "start_time": "2022-03-02T15:06:24.268Z"
   },
   {
    "duration": 7,
    "start_time": "2022-03-02T15:18:57.600Z"
   },
   {
    "duration": 19,
    "start_time": "2022-03-02T15:18:58.239Z"
   },
   {
    "duration": 6,
    "start_time": "2022-03-02T15:21:31.874Z"
   },
   {
    "duration": 441,
    "start_time": "2022-03-02T15:23:59.861Z"
   },
   {
    "duration": 17,
    "start_time": "2022-03-02T15:26:04.846Z"
   },
   {
    "duration": 58,
    "start_time": "2022-03-02T15:26:27.839Z"
   },
   {
    "duration": 43,
    "start_time": "2022-03-02T15:27:03.086Z"
   },
   {
    "duration": 255,
    "start_time": "2022-03-02T15:28:50.393Z"
   },
   {
    "duration": 236,
    "start_time": "2022-03-02T15:29:27.882Z"
   },
   {
    "duration": 1491,
    "start_time": "2022-03-02T15:29:53.391Z"
   },
   {
    "duration": 198,
    "start_time": "2022-03-02T15:29:54.885Z"
   },
   {
    "duration": 201,
    "start_time": "2022-03-02T15:29:55.091Z"
   },
   {
    "duration": 194,
    "start_time": "2022-03-02T15:29:55.294Z"
   },
   {
    "duration": 14,
    "start_time": "2022-03-02T15:29:55.490Z"
   },
   {
    "duration": 18,
    "start_time": "2022-03-02T15:29:55.507Z"
   },
   {
    "duration": 15,
    "start_time": "2022-03-02T15:29:55.528Z"
   },
   {
    "duration": 231,
    "start_time": "2022-03-02T15:29:55.585Z"
   },
   {
    "duration": 1089,
    "start_time": "2022-03-02T15:29:55.820Z"
   },
   {
    "duration": 1070,
    "start_time": "2022-03-02T15:29:56.912Z"
   },
   {
    "duration": 1102,
    "start_time": "2022-03-02T15:29:57.985Z"
   },
   {
    "duration": 2231,
    "start_time": "2022-03-02T15:29:59.089Z"
   },
   {
    "duration": 8,
    "start_time": "2022-03-02T15:30:01.324Z"
   },
   {
    "duration": 364,
    "start_time": "2022-03-02T15:30:01.335Z"
   },
   {
    "duration": 14,
    "start_time": "2022-03-02T15:30:01.701Z"
   },
   {
    "duration": 82,
    "start_time": "2022-03-02T15:30:01.717Z"
   },
   {
    "duration": 59,
    "start_time": "2022-03-02T15:30:01.803Z"
   },
   {
    "duration": 22,
    "start_time": "2022-03-02T15:30:01.864Z"
   },
   {
    "duration": 33,
    "start_time": "2022-03-02T15:30:01.889Z"
   },
   {
    "duration": 46,
    "start_time": "2022-03-02T15:30:01.924Z"
   },
   {
    "duration": 6,
    "start_time": "2022-03-02T15:30:01.973Z"
   },
   {
    "duration": 138,
    "start_time": "2022-03-02T15:30:01.982Z"
   },
   {
    "duration": 718,
    "start_time": "2022-03-02T15:30:01.404Z"
   },
   {
    "duration": 719,
    "start_time": "2022-03-02T15:30:01.405Z"
   },
   {
    "duration": 1494,
    "start_time": "2022-03-02T15:30:14.931Z"
   },
   {
    "duration": 206,
    "start_time": "2022-03-02T15:30:16.428Z"
   },
   {
    "duration": 200,
    "start_time": "2022-03-02T15:30:16.638Z"
   },
   {
    "duration": 212,
    "start_time": "2022-03-02T15:30:16.842Z"
   },
   {
    "duration": 28,
    "start_time": "2022-03-02T15:30:17.057Z"
   },
   {
    "duration": 16,
    "start_time": "2022-03-02T15:30:17.089Z"
   },
   {
    "duration": 17,
    "start_time": "2022-03-02T15:30:17.108Z"
   },
   {
    "duration": 272,
    "start_time": "2022-03-02T15:30:17.130Z"
   },
   {
    "duration": 1053,
    "start_time": "2022-03-02T15:30:17.405Z"
   },
   {
    "duration": 1010,
    "start_time": "2022-03-02T15:30:18.461Z"
   },
   {
    "duration": 1094,
    "start_time": "2022-03-02T15:30:19.474Z"
   },
   {
    "duration": 2348,
    "start_time": "2022-03-02T15:30:20.572Z"
   },
   {
    "duration": 7,
    "start_time": "2022-03-02T15:30:22.923Z"
   },
   {
    "duration": 309,
    "start_time": "2022-03-02T15:30:22.933Z"
   },
   {
    "duration": 14,
    "start_time": "2022-03-02T15:30:23.244Z"
   },
   {
    "duration": 67,
    "start_time": "2022-03-02T15:30:23.261Z"
   },
   {
    "duration": 67,
    "start_time": "2022-03-02T15:30:23.331Z"
   },
   {
    "duration": 7,
    "start_time": "2022-03-02T15:30:23.401Z"
   },
   {
    "duration": 10,
    "start_time": "2022-03-02T15:30:23.411Z"
   },
   {
    "duration": 20,
    "start_time": "2022-03-02T15:30:23.424Z"
   },
   {
    "duration": 39,
    "start_time": "2022-03-02T15:30:23.447Z"
   },
   {
    "duration": 49,
    "start_time": "2022-03-02T15:30:23.489Z"
   },
   {
    "duration": 390,
    "start_time": "2022-03-02T15:30:23.544Z"
   },
   {
    "duration": 453,
    "start_time": "2022-03-02T15:32:52.937Z"
   },
   {
    "duration": 252,
    "start_time": "2022-03-02T15:35:40.148Z"
   },
   {
    "duration": 9,
    "start_time": "2022-03-02T15:38:45.981Z"
   },
   {
    "duration": 228,
    "start_time": "2022-03-02T15:39:42.791Z"
   },
   {
    "duration": 254,
    "start_time": "2022-03-02T15:39:56.017Z"
   },
   {
    "duration": 7,
    "start_time": "2022-03-02T15:40:11.398Z"
   },
   {
    "duration": 265,
    "start_time": "2022-03-02T15:40:44.752Z"
   },
   {
    "duration": 233,
    "start_time": "2022-03-02T15:43:04.826Z"
   },
   {
    "duration": 1498,
    "start_time": "2022-03-02T15:43:35.768Z"
   },
   {
    "duration": 203,
    "start_time": "2022-03-02T15:43:37.269Z"
   },
   {
    "duration": 188,
    "start_time": "2022-03-02T15:43:37.476Z"
   },
   {
    "duration": 206,
    "start_time": "2022-03-02T15:43:37.666Z"
   },
   {
    "duration": 18,
    "start_time": "2022-03-02T15:43:37.875Z"
   },
   {
    "duration": 13,
    "start_time": "2022-03-02T15:43:37.896Z"
   },
   {
    "duration": 13,
    "start_time": "2022-03-02T15:43:37.911Z"
   },
   {
    "duration": 261,
    "start_time": "2022-03-02T15:43:37.926Z"
   },
   {
    "duration": 1019,
    "start_time": "2022-03-02T15:43:38.192Z"
   },
   {
    "duration": 1026,
    "start_time": "2022-03-02T15:43:39.215Z"
   },
   {
    "duration": 1091,
    "start_time": "2022-03-02T15:43:40.244Z"
   },
   {
    "duration": 2129,
    "start_time": "2022-03-02T15:43:41.338Z"
   },
   {
    "duration": 18,
    "start_time": "2022-03-02T15:43:43.469Z"
   },
   {
    "duration": 284,
    "start_time": "2022-03-02T15:43:43.489Z"
   },
   {
    "duration": 16,
    "start_time": "2022-03-02T15:43:43.784Z"
   },
   {
    "duration": 60,
    "start_time": "2022-03-02T15:43:43.804Z"
   },
   {
    "duration": 47,
    "start_time": "2022-03-02T15:43:43.883Z"
   },
   {
    "duration": 9,
    "start_time": "2022-03-02T15:43:43.933Z"
   },
   {
    "duration": 37,
    "start_time": "2022-03-02T15:43:43.945Z"
   },
   {
    "duration": 20,
    "start_time": "2022-03-02T15:43:43.985Z"
   },
   {
    "duration": 8,
    "start_time": "2022-03-02T15:43:44.008Z"
   },
   {
    "duration": 84,
    "start_time": "2022-03-02T15:43:44.019Z"
   },
   {
    "duration": 8,
    "start_time": "2022-03-02T15:43:44.106Z"
   },
   {
    "duration": 363,
    "start_time": "2022-03-02T15:43:44.117Z"
   },
   {
    "duration": 23,
    "start_time": "2022-03-02T15:44:45.551Z"
   },
   {
    "duration": 270,
    "start_time": "2022-03-02T15:51:07.237Z"
   },
   {
    "duration": 6,
    "start_time": "2022-03-02T15:51:46.374Z"
   },
   {
    "duration": 1413,
    "start_time": "2022-03-02T15:51:55.037Z"
   },
   {
    "duration": 202,
    "start_time": "2022-03-02T15:51:56.453Z"
   },
   {
    "duration": 200,
    "start_time": "2022-03-02T15:51:56.659Z"
   },
   {
    "duration": 194,
    "start_time": "2022-03-02T15:51:56.862Z"
   },
   {
    "duration": 28,
    "start_time": "2022-03-02T15:51:57.058Z"
   },
   {
    "duration": 16,
    "start_time": "2022-03-02T15:51:57.088Z"
   },
   {
    "duration": 15,
    "start_time": "2022-03-02T15:51:57.108Z"
   },
   {
    "duration": 256,
    "start_time": "2022-03-02T15:51:57.126Z"
   },
   {
    "duration": 1001,
    "start_time": "2022-03-02T15:51:57.386Z"
   },
   {
    "duration": 975,
    "start_time": "2022-03-02T15:51:58.391Z"
   },
   {
    "duration": 1064,
    "start_time": "2022-03-02T15:51:59.368Z"
   },
   {
    "duration": 2203,
    "start_time": "2022-03-02T15:52:00.435Z"
   },
   {
    "duration": 6,
    "start_time": "2022-03-02T15:52:02.641Z"
   },
   {
    "duration": 316,
    "start_time": "2022-03-02T15:52:02.650Z"
   },
   {
    "duration": 17,
    "start_time": "2022-03-02T15:52:02.969Z"
   },
   {
    "duration": 50,
    "start_time": "2022-03-02T15:52:02.989Z"
   },
   {
    "duration": 74,
    "start_time": "2022-03-02T15:52:03.042Z"
   },
   {
    "duration": 8,
    "start_time": "2022-03-02T15:52:03.119Z"
   },
   {
    "duration": 11,
    "start_time": "2022-03-02T15:52:03.129Z"
   },
   {
    "duration": 43,
    "start_time": "2022-03-02T15:52:03.143Z"
   },
   {
    "duration": 7,
    "start_time": "2022-03-02T15:52:03.188Z"
   },
   {
    "duration": 56,
    "start_time": "2022-03-02T15:52:03.197Z"
   },
   {
    "duration": 28,
    "start_time": "2022-03-02T15:52:03.256Z"
   },
   {
    "duration": 100,
    "start_time": "2022-03-02T15:52:03.286Z"
   },
   {
    "duration": 94,
    "start_time": "2022-03-02T15:52:03.390Z"
   },
   {
    "duration": 392,
    "start_time": "2022-03-02T15:53:06.147Z"
   },
   {
    "duration": 6,
    "start_time": "2022-03-02T15:53:13.357Z"
   },
   {
    "duration": 2073,
    "start_time": "2022-03-03T16:10:13.818Z"
   },
   {
    "duration": 315,
    "start_time": "2022-03-03T16:10:15.895Z"
   },
   {
    "duration": 305,
    "start_time": "2022-03-03T16:10:16.219Z"
   },
   {
    "duration": 307,
    "start_time": "2022-03-03T16:10:16.528Z"
   },
   {
    "duration": 22,
    "start_time": "2022-03-03T16:10:16.838Z"
   },
   {
    "duration": 32,
    "start_time": "2022-03-03T16:10:16.864Z"
   },
   {
    "duration": 13,
    "start_time": "2022-03-03T16:10:16.899Z"
   },
   {
    "duration": 244,
    "start_time": "2022-03-03T16:10:16.917Z"
   },
   {
    "duration": 1085,
    "start_time": "2022-03-03T16:10:17.164Z"
   },
   {
    "duration": 1040,
    "start_time": "2022-03-03T16:10:18.252Z"
   },
   {
    "duration": 1119,
    "start_time": "2022-03-03T16:10:19.294Z"
   },
   {
    "duration": 3603,
    "start_time": "2022-03-03T16:10:20.415Z"
   },
   {
    "duration": 10,
    "start_time": "2022-03-03T16:10:24.021Z"
   },
   {
    "duration": 494,
    "start_time": "2022-03-03T16:10:24.034Z"
   },
   {
    "duration": 17,
    "start_time": "2022-03-03T16:10:24.531Z"
   },
   {
    "duration": 91,
    "start_time": "2022-03-03T16:10:24.552Z"
   },
   {
    "duration": 69,
    "start_time": "2022-03-03T16:10:24.646Z"
   },
   {
    "duration": 8,
    "start_time": "2022-03-03T16:10:24.717Z"
   },
   {
    "duration": 11,
    "start_time": "2022-03-03T16:10:24.727Z"
   },
   {
    "duration": 24,
    "start_time": "2022-03-03T16:10:24.740Z"
   },
   {
    "duration": 18,
    "start_time": "2022-03-03T16:10:24.767Z"
   },
   {
    "duration": 59,
    "start_time": "2022-03-03T16:10:24.787Z"
   },
   {
    "duration": 44,
    "start_time": "2022-03-03T16:10:24.850Z"
   },
   {
    "duration": 89,
    "start_time": "2022-03-03T16:10:24.898Z"
   },
   {
    "duration": 499,
    "start_time": "2022-03-03T16:10:24.992Z"
   },
   {
    "duration": 284,
    "start_time": "2022-03-03T16:17:30.826Z"
   },
   {
    "duration": 278,
    "start_time": "2022-03-03T16:18:13.519Z"
   },
   {
    "duration": 429,
    "start_time": "2022-03-03T16:19:16.282Z"
   },
   {
    "duration": 63,
    "start_time": "2022-03-03T16:19:27.234Z"
   },
   {
    "duration": 1503,
    "start_time": "2022-03-03T16:19:35.765Z"
   },
   {
    "duration": 208,
    "start_time": "2022-03-03T16:19:37.270Z"
   },
   {
    "duration": 200,
    "start_time": "2022-03-03T16:19:37.483Z"
   },
   {
    "duration": 204,
    "start_time": "2022-03-03T16:19:37.687Z"
   },
   {
    "duration": 15,
    "start_time": "2022-03-03T16:19:37.894Z"
   },
   {
    "duration": 16,
    "start_time": "2022-03-03T16:19:37.911Z"
   },
   {
    "duration": 14,
    "start_time": "2022-03-03T16:19:37.930Z"
   },
   {
    "duration": 238,
    "start_time": "2022-03-03T16:19:37.982Z"
   },
   {
    "duration": 1028,
    "start_time": "2022-03-03T16:19:38.224Z"
   },
   {
    "duration": 1028,
    "start_time": "2022-03-03T16:19:39.256Z"
   },
   {
    "duration": 1066,
    "start_time": "2022-03-03T16:19:40.287Z"
   },
   {
    "duration": 2268,
    "start_time": "2022-03-03T16:19:41.355Z"
   },
   {
    "duration": 6,
    "start_time": "2022-03-03T16:19:43.626Z"
   },
   {
    "duration": 310,
    "start_time": "2022-03-03T16:19:43.634Z"
   },
   {
    "duration": 15,
    "start_time": "2022-03-03T16:19:43.947Z"
   },
   {
    "duration": 63,
    "start_time": "2022-03-03T16:19:43.965Z"
   },
   {
    "duration": 60,
    "start_time": "2022-03-03T16:19:44.030Z"
   },
   {
    "duration": 7,
    "start_time": "2022-03-03T16:19:44.092Z"
   },
   {
    "duration": 10,
    "start_time": "2022-03-03T16:19:44.102Z"
   },
   {
    "duration": 21,
    "start_time": "2022-03-03T16:19:44.115Z"
   },
   {
    "duration": 5,
    "start_time": "2022-03-03T16:19:44.138Z"
   },
   {
    "duration": 77,
    "start_time": "2022-03-03T16:19:44.146Z"
   },
   {
    "duration": 57,
    "start_time": "2022-03-03T16:19:44.225Z"
   },
   {
    "duration": 98,
    "start_time": "2022-03-03T16:19:44.286Z"
   },
   {
    "duration": 96,
    "start_time": "2022-03-03T16:19:44.388Z"
   },
   {
    "duration": 78,
    "start_time": "2022-03-03T16:26:13.361Z"
   },
   {
    "duration": 7,
    "start_time": "2022-03-03T16:26:37.537Z"
   },
   {
    "duration": 63,
    "start_time": "2022-03-03T16:27:48.418Z"
   },
   {
    "duration": 615,
    "start_time": "2022-03-03T16:31:16.476Z"
   },
   {
    "duration": 359,
    "start_time": "2022-03-03T16:31:38.805Z"
   },
   {
    "duration": 84,
    "start_time": "2022-03-03T16:31:54.700Z"
   },
   {
    "duration": 84,
    "start_time": "2022-03-04T05:55:48.444Z"
   },
   {
    "duration": 104,
    "start_time": "2022-03-04T05:56:30.797Z"
   },
   {
    "duration": 4,
    "start_time": "2022-03-04T05:56:59.949Z"
   },
   {
    "duration": 6,
    "start_time": "2022-03-04T05:57:27.894Z"
   },
   {
    "duration": 12,
    "start_time": "2022-03-04T06:15:24.391Z"
   },
   {
    "duration": 13,
    "start_time": "2022-03-04T06:15:44.159Z"
   },
   {
    "duration": 289,
    "start_time": "2022-03-04T06:15:53.942Z"
   },
   {
    "duration": 12,
    "start_time": "2022-03-04T06:16:03.384Z"
   },
   {
    "duration": 11,
    "start_time": "2022-03-04T06:16:32.200Z"
   },
   {
    "duration": 13,
    "start_time": "2022-03-04T06:17:28.593Z"
   },
   {
    "duration": 236,
    "start_time": "2022-03-04T06:17:40.504Z"
   },
   {
    "duration": 240,
    "start_time": "2022-03-04T06:17:46.232Z"
   },
   {
    "duration": 14,
    "start_time": "2022-03-04T06:19:10.244Z"
   },
   {
    "duration": 14,
    "start_time": "2022-03-04T06:21:01.059Z"
   },
   {
    "duration": 13,
    "start_time": "2022-03-04T06:21:17.707Z"
   },
   {
    "duration": 25,
    "start_time": "2022-03-04T06:22:42.373Z"
   },
   {
    "duration": 39,
    "start_time": "2022-03-04T06:25:25.215Z"
   },
   {
    "duration": 5,
    "start_time": "2022-03-04T06:35:42.928Z"
   },
   {
    "duration": 78,
    "start_time": "2022-03-04T07:23:43.282Z"
   },
   {
    "duration": 122,
    "start_time": "2022-03-04T07:23:51.162Z"
   },
   {
    "duration": 986,
    "start_time": "2022-03-04T07:24:06.299Z"
   },
   {
    "duration": 8,
    "start_time": "2022-03-04T07:24:32.083Z"
   },
   {
    "duration": 26,
    "start_time": "2022-03-04T07:24:34.459Z"
   },
   {
    "duration": 5,
    "start_time": "2022-03-04T07:26:18.725Z"
   },
   {
    "duration": 25,
    "start_time": "2022-03-04T07:26:19.260Z"
   },
   {
    "duration": 1627,
    "start_time": "2022-03-04T07:29:48.970Z"
   },
   {
    "duration": 205,
    "start_time": "2022-03-04T07:29:50.600Z"
   },
   {
    "duration": 199,
    "start_time": "2022-03-04T07:29:50.808Z"
   },
   {
    "duration": 202,
    "start_time": "2022-03-04T07:29:51.010Z"
   },
   {
    "duration": 17,
    "start_time": "2022-03-04T07:29:51.215Z"
   },
   {
    "duration": 24,
    "start_time": "2022-03-04T07:29:51.235Z"
   },
   {
    "duration": 34,
    "start_time": "2022-03-04T07:29:51.262Z"
   },
   {
    "duration": 245,
    "start_time": "2022-03-04T07:29:51.302Z"
   },
   {
    "duration": 1032,
    "start_time": "2022-03-04T07:29:51.550Z"
   },
   {
    "duration": 1028,
    "start_time": "2022-03-04T07:29:52.585Z"
   },
   {
    "duration": 1126,
    "start_time": "2022-03-04T07:29:53.616Z"
   },
   {
    "duration": 2175,
    "start_time": "2022-03-04T07:29:54.745Z"
   },
   {
    "duration": 8,
    "start_time": "2022-03-04T07:29:56.923Z"
   },
   {
    "duration": 311,
    "start_time": "2022-03-04T07:29:56.933Z"
   },
   {
    "duration": 13,
    "start_time": "2022-03-04T07:29:57.247Z"
   },
   {
    "duration": 66,
    "start_time": "2022-03-04T07:29:57.263Z"
   },
   {
    "duration": 62,
    "start_time": "2022-03-04T07:29:57.331Z"
   },
   {
    "duration": 7,
    "start_time": "2022-03-04T07:29:57.396Z"
   },
   {
    "duration": 53,
    "start_time": "2022-03-04T07:29:57.406Z"
   },
   {
    "duration": 21,
    "start_time": "2022-03-04T07:29:57.462Z"
   },
   {
    "duration": 37,
    "start_time": "2022-03-04T07:29:57.486Z"
   },
   {
    "duration": 6,
    "start_time": "2022-03-04T07:29:57.526Z"
   },
   {
    "duration": 77,
    "start_time": "2022-03-04T07:29:57.538Z"
   },
   {
    "duration": 68,
    "start_time": "2022-03-04T07:29:57.618Z"
   },
   {
    "duration": 8,
    "start_time": "2022-03-04T07:29:57.689Z"
   },
   {
    "duration": 100,
    "start_time": "2022-03-04T07:29:57.784Z"
   },
   {
    "duration": 296,
    "start_time": "2022-03-04T07:29:57.887Z"
   },
   {
    "duration": 8,
    "start_time": "2022-03-04T07:29:58.186Z"
   },
   {
    "duration": 40,
    "start_time": "2022-03-04T07:29:58.282Z"
   },
   {
    "duration": 7,
    "start_time": "2022-03-04T07:29:58.325Z"
   },
   {
    "duration": 58,
    "start_time": "2022-03-04T07:29:58.334Z"
   },
   {
    "duration": 78,
    "start_time": "2022-03-04T07:40:12.702Z"
   },
   {
    "duration": 77,
    "start_time": "2022-03-04T07:41:42.143Z"
   },
   {
    "duration": 1496,
    "start_time": "2022-03-04T07:42:02.764Z"
   },
   {
    "duration": 204,
    "start_time": "2022-03-04T07:42:04.263Z"
   },
   {
    "duration": 194,
    "start_time": "2022-03-04T07:42:04.470Z"
   },
   {
    "duration": 204,
    "start_time": "2022-03-04T07:42:04.667Z"
   },
   {
    "duration": 14,
    "start_time": "2022-03-04T07:42:04.873Z"
   },
   {
    "duration": 14,
    "start_time": "2022-03-04T07:42:04.890Z"
   },
   {
    "duration": 13,
    "start_time": "2022-03-04T07:42:04.907Z"
   },
   {
    "duration": 274,
    "start_time": "2022-03-04T07:42:04.924Z"
   },
   {
    "duration": 1152,
    "start_time": "2022-03-04T07:42:05.201Z"
   },
   {
    "duration": 1016,
    "start_time": "2022-03-04T07:42:06.356Z"
   },
   {
    "duration": 1066,
    "start_time": "2022-03-04T07:42:07.374Z"
   },
   {
    "duration": 2202,
    "start_time": "2022-03-04T07:42:08.442Z"
   },
   {
    "duration": 6,
    "start_time": "2022-03-04T07:42:10.647Z"
   },
   {
    "duration": 314,
    "start_time": "2022-03-04T07:42:10.656Z"
   },
   {
    "duration": 16,
    "start_time": "2022-03-04T07:42:10.981Z"
   },
   {
    "duration": 50,
    "start_time": "2022-03-04T07:42:11.000Z"
   },
   {
    "duration": 76,
    "start_time": "2022-03-04T07:42:11.053Z"
   },
   {
    "duration": 8,
    "start_time": "2022-03-04T07:42:11.132Z"
   },
   {
    "duration": 80,
    "start_time": "2022-03-04T07:42:11.143Z"
   },
   {
    "duration": 7,
    "start_time": "2022-03-04T07:42:11.226Z"
   },
   {
    "duration": 22,
    "start_time": "2022-03-04T07:42:11.236Z"
   },
   {
    "duration": 7,
    "start_time": "2022-03-04T07:42:11.281Z"
   },
   {
    "duration": 61,
    "start_time": "2022-03-04T07:42:11.298Z"
   },
   {
    "duration": 134,
    "start_time": "2022-03-04T07:42:11.363Z"
   },
   {
    "duration": 8,
    "start_time": "2022-03-04T07:42:11.584Z"
   },
   {
    "duration": 97,
    "start_time": "2022-03-04T07:42:11.595Z"
   },
   {
    "duration": 290,
    "start_time": "2022-03-04T07:42:11.695Z"
   },
   {
    "duration": 95,
    "start_time": "2022-03-04T07:42:11.989Z"
   },
   {
    "duration": 27,
    "start_time": "2022-03-04T07:42:12.088Z"
   },
   {
    "duration": 5,
    "start_time": "2022-03-04T07:42:12.119Z"
   },
   {
    "duration": 66,
    "start_time": "2022-03-04T07:42:12.126Z"
   },
   {
    "duration": 78,
    "start_time": "2022-03-04T07:42:12.194Z"
   },
   {
    "duration": 300,
    "start_time": "2022-03-04T07:42:11.974Z"
   },
   {
    "duration": 96,
    "start_time": "2022-03-04T07:42:34.176Z"
   },
   {
    "duration": 83,
    "start_time": "2022-03-04T07:44:11.288Z"
   },
   {
    "duration": 5,
    "start_time": "2022-03-04T07:44:51.827Z"
   },
   {
    "duration": 27,
    "start_time": "2022-03-04T07:44:51.836Z"
   },
   {
    "duration": 1477,
    "start_time": "2022-03-04T07:45:10.298Z"
   },
   {
    "duration": 219,
    "start_time": "2022-03-04T07:45:11.778Z"
   },
   {
    "duration": 198,
    "start_time": "2022-03-04T07:45:12.001Z"
   },
   {
    "duration": 202,
    "start_time": "2022-03-04T07:45:12.202Z"
   },
   {
    "duration": 17,
    "start_time": "2022-03-04T07:45:12.407Z"
   },
   {
    "duration": 16,
    "start_time": "2022-03-04T07:45:12.427Z"
   },
   {
    "duration": 52,
    "start_time": "2022-03-04T07:45:12.446Z"
   },
   {
    "duration": 228,
    "start_time": "2022-03-04T07:45:12.501Z"
   },
   {
    "duration": 1099,
    "start_time": "2022-03-04T07:45:12.734Z"
   },
   {
    "duration": 1039,
    "start_time": "2022-03-04T07:45:13.838Z"
   },
   {
    "duration": 1078,
    "start_time": "2022-03-04T07:45:14.882Z"
   },
   {
    "duration": 2220,
    "start_time": "2022-03-04T07:45:15.962Z"
   },
   {
    "duration": 7,
    "start_time": "2022-03-04T07:45:18.191Z"
   },
   {
    "duration": 301,
    "start_time": "2022-03-04T07:45:18.201Z"
   },
   {
    "duration": 13,
    "start_time": "2022-03-04T07:45:18.505Z"
   },
   {
    "duration": 75,
    "start_time": "2022-03-04T07:45:18.521Z"
   },
   {
    "duration": 45,
    "start_time": "2022-03-04T07:45:18.598Z"
   },
   {
    "duration": 8,
    "start_time": "2022-03-04T07:45:18.645Z"
   },
   {
    "duration": 44,
    "start_time": "2022-03-04T07:45:18.685Z"
   },
   {
    "duration": 6,
    "start_time": "2022-03-04T07:45:18.732Z"
   },
   {
    "duration": 41,
    "start_time": "2022-03-04T07:45:18.741Z"
   },
   {
    "duration": 7,
    "start_time": "2022-03-04T07:45:18.786Z"
   },
   {
    "duration": 54,
    "start_time": "2022-03-04T07:45:18.796Z"
   },
   {
    "duration": 43,
    "start_time": "2022-03-04T07:45:18.853Z"
   },
   {
    "duration": 91,
    "start_time": "2022-03-04T07:45:18.902Z"
   },
   {
    "duration": 193,
    "start_time": "2022-03-04T07:45:18.996Z"
   },
   {
    "duration": 191,
    "start_time": "2022-03-04T07:45:19.203Z"
   },
   {
    "duration": 91,
    "start_time": "2022-03-04T07:45:19.397Z"
   },
   {
    "duration": 55,
    "start_time": "2022-03-04T07:45:19.491Z"
   },
   {
    "duration": 21,
    "start_time": "2022-03-04T07:45:19.549Z"
   },
   {
    "duration": 46,
    "start_time": "2022-03-04T07:45:19.572Z"
   },
   {
    "duration": 90,
    "start_time": "2022-03-04T07:45:19.621Z"
   },
   {
    "duration": 342,
    "start_time": "2022-03-04T07:45:19.372Z"
   },
   {
    "duration": 135,
    "start_time": "2022-03-04T07:48:08.239Z"
   },
   {
    "duration": 96,
    "start_time": "2022-03-04T07:48:37.112Z"
   },
   {
    "duration": 95,
    "start_time": "2022-03-04T07:49:02.297Z"
   },
   {
    "duration": 1445,
    "start_time": "2022-03-04T07:49:43.709Z"
   },
   {
    "duration": 201,
    "start_time": "2022-03-04T07:49:45.157Z"
   },
   {
    "duration": 194,
    "start_time": "2022-03-04T07:49:45.362Z"
   },
   {
    "duration": 197,
    "start_time": "2022-03-04T07:49:45.560Z"
   },
   {
    "duration": 24,
    "start_time": "2022-03-04T07:49:45.760Z"
   },
   {
    "duration": 20,
    "start_time": "2022-03-04T07:49:45.787Z"
   },
   {
    "duration": 15,
    "start_time": "2022-03-04T07:49:45.809Z"
   },
   {
    "duration": 259,
    "start_time": "2022-03-04T07:49:45.827Z"
   },
   {
    "duration": 1087,
    "start_time": "2022-03-04T07:49:46.090Z"
   },
   {
    "duration": 1147,
    "start_time": "2022-03-04T07:49:47.184Z"
   },
   {
    "duration": 1162,
    "start_time": "2022-03-04T07:49:48.334Z"
   },
   {
    "duration": 2245,
    "start_time": "2022-03-04T07:49:49.499Z"
   },
   {
    "duration": 6,
    "start_time": "2022-03-04T07:49:51.747Z"
   },
   {
    "duration": 295,
    "start_time": "2022-03-04T07:49:51.755Z"
   },
   {
    "duration": 13,
    "start_time": "2022-03-04T07:49:52.052Z"
   },
   {
    "duration": 62,
    "start_time": "2022-03-04T07:49:52.068Z"
   },
   {
    "duration": 65,
    "start_time": "2022-03-04T07:49:52.132Z"
   },
   {
    "duration": 7,
    "start_time": "2022-03-04T07:49:52.200Z"
   },
   {
    "duration": 52,
    "start_time": "2022-03-04T07:49:52.209Z"
   },
   {
    "duration": 19,
    "start_time": "2022-03-04T07:49:52.263Z"
   },
   {
    "duration": 17,
    "start_time": "2022-03-04T07:49:52.285Z"
   },
   {
    "duration": 6,
    "start_time": "2022-03-04T07:49:52.304Z"
   },
   {
    "duration": 79,
    "start_time": "2022-03-04T07:49:52.312Z"
   },
   {
    "duration": 22,
    "start_time": "2022-03-04T07:49:52.393Z"
   },
   {
    "duration": 11,
    "start_time": "2022-03-04T07:49:52.484Z"
   },
   {
    "duration": 188,
    "start_time": "2022-03-04T07:49:52.498Z"
   },
   {
    "duration": 287,
    "start_time": "2022-03-04T07:49:52.695Z"
   },
   {
    "duration": 97,
    "start_time": "2022-03-04T07:49:52.986Z"
   },
   {
    "duration": 35,
    "start_time": "2022-03-04T07:49:53.087Z"
   },
   {
    "duration": 7,
    "start_time": "2022-03-04T07:49:53.125Z"
   },
   {
    "duration": 66,
    "start_time": "2022-03-04T07:49:53.136Z"
   },
   {
    "duration": 84,
    "start_time": "2022-03-04T07:49:53.205Z"
   },
   {
    "duration": 348,
    "start_time": "2022-03-04T07:49:52.945Z"
   },
   {
    "duration": 85,
    "start_time": "2022-03-04T07:50:13.040Z"
   },
   {
    "duration": 1426,
    "start_time": "2022-03-04T07:51:16.525Z"
   },
   {
    "duration": 193,
    "start_time": "2022-03-04T07:51:17.954Z"
   },
   {
    "duration": 197,
    "start_time": "2022-03-04T07:51:18.150Z"
   },
   {
    "duration": 190,
    "start_time": "2022-03-04T07:51:18.349Z"
   },
   {
    "duration": 15,
    "start_time": "2022-03-04T07:51:18.541Z"
   },
   {
    "duration": 34,
    "start_time": "2022-03-04T07:51:18.558Z"
   },
   {
    "duration": 13,
    "start_time": "2022-03-04T07:51:18.595Z"
   },
   {
    "duration": 245,
    "start_time": "2022-03-04T07:51:18.611Z"
   },
   {
    "duration": 993,
    "start_time": "2022-03-04T07:51:18.860Z"
   },
   {
    "duration": 1007,
    "start_time": "2022-03-04T07:51:19.857Z"
   },
   {
    "duration": 1076,
    "start_time": "2022-03-04T07:51:20.868Z"
   },
   {
    "duration": 2139,
    "start_time": "2022-03-04T07:51:21.946Z"
   },
   {
    "duration": 6,
    "start_time": "2022-03-04T07:51:24.087Z"
   },
   {
    "duration": 293,
    "start_time": "2022-03-04T07:51:24.096Z"
   },
   {
    "duration": 14,
    "start_time": "2022-03-04T07:51:24.392Z"
   },
   {
    "duration": 48,
    "start_time": "2022-03-04T07:51:24.408Z"
   },
   {
    "duration": 66,
    "start_time": "2022-03-04T07:51:24.458Z"
   },
   {
    "duration": 7,
    "start_time": "2022-03-04T07:51:24.526Z"
   },
   {
    "duration": 65,
    "start_time": "2022-03-04T07:51:24.536Z"
   },
   {
    "duration": 6,
    "start_time": "2022-03-04T07:51:24.603Z"
   },
   {
    "duration": 20,
    "start_time": "2022-03-04T07:51:24.612Z"
   },
   {
    "duration": 6,
    "start_time": "2022-03-04T07:51:24.635Z"
   },
   {
    "duration": 84,
    "start_time": "2022-03-04T07:51:24.644Z"
   },
   {
    "duration": 58,
    "start_time": "2022-03-04T07:51:24.732Z"
   },
   {
    "duration": 94,
    "start_time": "2022-03-04T07:51:24.794Z"
   },
   {
    "duration": 100,
    "start_time": "2022-03-04T07:51:24.892Z"
   },
   {
    "duration": 121,
    "start_time": "2022-03-04T07:51:25.084Z"
   },
   {
    "duration": 79,
    "start_time": "2022-03-04T07:51:25.208Z"
   },
   {
    "duration": 119,
    "start_time": "2022-03-04T07:51:25.291Z"
   },
   {
    "duration": 5,
    "start_time": "2022-03-04T07:51:25.412Z"
   },
   {
    "duration": 29,
    "start_time": "2022-03-04T07:51:25.419Z"
   },
   {
    "duration": 78,
    "start_time": "2022-03-04T07:51:25.450Z"
   },
   {
    "duration": 353,
    "start_time": "2022-03-04T07:51:25.178Z"
   },
   {
    "duration": 5,
    "start_time": "2022-03-04T07:52:41.456Z"
   },
   {
    "duration": 25,
    "start_time": "2022-03-04T07:52:41.920Z"
   },
   {
    "duration": 6,
    "start_time": "2022-03-04T07:53:30.347Z"
   },
   {
    "duration": 30,
    "start_time": "2022-03-04T07:53:32.369Z"
   },
   {
    "duration": 4,
    "start_time": "2022-03-04T07:54:26.130Z"
   },
   {
    "duration": 29,
    "start_time": "2022-03-04T07:54:28.145Z"
   },
   {
    "duration": 5,
    "start_time": "2022-03-04T07:55:20.691Z"
   },
   {
    "duration": 38,
    "start_time": "2022-03-04T07:55:21.691Z"
   },
   {
    "duration": 5,
    "start_time": "2022-03-04T07:55:50.546Z"
   },
   {
    "duration": 28,
    "start_time": "2022-03-04T07:55:51.187Z"
   },
   {
    "duration": 4,
    "start_time": "2022-03-04T07:56:20.627Z"
   },
   {
    "duration": 27,
    "start_time": "2022-03-04T07:56:21.067Z"
   },
   {
    "duration": 4,
    "start_time": "2022-03-04T07:56:35.524Z"
   },
   {
    "duration": 23,
    "start_time": "2022-03-04T07:56:36.243Z"
   },
   {
    "duration": 4,
    "start_time": "2022-03-04T07:57:13.165Z"
   },
   {
    "duration": 28,
    "start_time": "2022-03-04T07:57:13.964Z"
   },
   {
    "duration": 5,
    "start_time": "2022-03-04T07:57:35.428Z"
   },
   {
    "duration": 28,
    "start_time": "2022-03-04T07:57:36.348Z"
   },
   {
    "duration": 5,
    "start_time": "2022-03-04T07:58:07.501Z"
   },
   {
    "duration": 27,
    "start_time": "2022-03-04T07:58:09.357Z"
   },
   {
    "duration": 5,
    "start_time": "2022-03-04T07:59:46.598Z"
   },
   {
    "duration": 29,
    "start_time": "2022-03-04T07:59:47.439Z"
   },
   {
    "duration": 14,
    "start_time": "2022-03-04T08:01:00.056Z"
   },
   {
    "duration": 4,
    "start_time": "2022-03-04T08:01:23.400Z"
   },
   {
    "duration": 27,
    "start_time": "2022-03-04T08:01:24.200Z"
   },
   {
    "duration": 4,
    "start_time": "2022-03-04T08:02:02.801Z"
   },
   {
    "duration": 41,
    "start_time": "2022-03-04T08:02:03.697Z"
   },
   {
    "duration": 6,
    "start_time": "2022-03-04T08:02:39.937Z"
   },
   {
    "duration": 4,
    "start_time": "2022-03-04T08:02:54.505Z"
   },
   {
    "duration": 29,
    "start_time": "2022-03-04T08:02:55.209Z"
   },
   {
    "duration": 6,
    "start_time": "2022-03-04T08:04:16.882Z"
   },
   {
    "duration": 28,
    "start_time": "2022-03-04T08:04:17.402Z"
   },
   {
    "duration": 5,
    "start_time": "2022-03-04T08:04:57.290Z"
   },
   {
    "duration": 27,
    "start_time": "2022-03-04T08:05:07.763Z"
   },
   {
    "duration": 36,
    "start_time": "2022-03-04T08:06:50.117Z"
   },
   {
    "duration": 5,
    "start_time": "2022-03-04T08:07:00.789Z"
   },
   {
    "duration": 28,
    "start_time": "2022-03-04T08:07:08.365Z"
   },
   {
    "duration": 1497,
    "start_time": "2022-03-04T08:07:54.061Z"
   },
   {
    "duration": 283,
    "start_time": "2022-03-04T08:07:55.561Z"
   },
   {
    "duration": 393,
    "start_time": "2022-03-04T08:07:55.848Z"
   },
   {
    "duration": 288,
    "start_time": "2022-03-04T08:07:56.245Z"
   },
   {
    "duration": 22,
    "start_time": "2022-03-04T08:07:56.536Z"
   },
   {
    "duration": 35,
    "start_time": "2022-03-04T08:07:56.561Z"
   },
   {
    "duration": 15,
    "start_time": "2022-03-04T08:07:56.600Z"
   },
   {
    "duration": 253,
    "start_time": "2022-03-04T08:07:56.618Z"
   },
   {
    "duration": 1080,
    "start_time": "2022-03-04T08:07:56.876Z"
   },
   {
    "duration": 1088,
    "start_time": "2022-03-04T08:07:57.959Z"
   },
   {
    "duration": 1124,
    "start_time": "2022-03-04T08:07:59.049Z"
   },
   {
    "duration": 2213,
    "start_time": "2022-03-04T08:08:00.176Z"
   },
   {
    "duration": 6,
    "start_time": "2022-03-04T08:08:02.391Z"
   },
   {
    "duration": 304,
    "start_time": "2022-03-04T08:08:02.400Z"
   },
   {
    "duration": 14,
    "start_time": "2022-03-04T08:08:02.707Z"
   },
   {
    "duration": 68,
    "start_time": "2022-03-04T08:08:02.724Z"
   },
   {
    "duration": 46,
    "start_time": "2022-03-04T08:08:02.795Z"
   },
   {
    "duration": 8,
    "start_time": "2022-03-04T08:08:02.844Z"
   },
   {
    "duration": 65,
    "start_time": "2022-03-04T08:08:02.854Z"
   },
   {
    "duration": 6,
    "start_time": "2022-03-04T08:08:02.922Z"
   },
   {
    "duration": 46,
    "start_time": "2022-03-04T08:08:02.931Z"
   },
   {
    "duration": 6,
    "start_time": "2022-03-04T08:08:02.979Z"
   },
   {
    "duration": 49,
    "start_time": "2022-03-04T08:08:02.987Z"
   },
   {
    "duration": 52,
    "start_time": "2022-03-04T08:08:03.039Z"
   },
   {
    "duration": 94,
    "start_time": "2022-03-04T08:08:03.094Z"
   },
   {
    "duration": 196,
    "start_time": "2022-03-04T08:08:03.192Z"
   },
   {
    "duration": 197,
    "start_time": "2022-03-04T08:08:03.396Z"
   },
   {
    "duration": 89,
    "start_time": "2022-03-04T08:08:03.597Z"
   },
   {
    "duration": 133,
    "start_time": "2022-03-04T08:08:03.690Z"
   },
   {
    "duration": 5,
    "start_time": "2022-03-04T08:08:03.826Z"
   },
   {
    "duration": 51,
    "start_time": "2022-03-04T08:08:03.833Z"
   },
   {
    "duration": 31,
    "start_time": "2022-03-04T08:08:03.886Z"
   },
   {
    "duration": 5,
    "start_time": "2022-03-04T08:08:03.919Z"
   },
   {
    "duration": 57,
    "start_time": "2022-03-04T08:08:03.927Z"
   },
   {
    "duration": 5,
    "start_time": "2022-03-04T08:10:27.287Z"
   },
   {
    "duration": 28,
    "start_time": "2022-03-04T08:10:29.317Z"
   },
   {
    "duration": 27,
    "start_time": "2022-03-04T08:10:51.426Z"
   },
   {
    "duration": 5,
    "start_time": "2022-03-04T08:11:59.014Z"
   },
   {
    "duration": 25,
    "start_time": "2022-03-04T08:11:59.574Z"
   },
   {
    "duration": 25,
    "start_time": "2022-03-04T08:12:01.151Z"
   },
   {
    "duration": 1538,
    "start_time": "2022-03-04T17:20:23.135Z"
   },
   {
    "duration": 206,
    "start_time": "2022-03-04T17:20:24.676Z"
   },
   {
    "duration": 198,
    "start_time": "2022-03-04T17:20:24.885Z"
   },
   {
    "duration": 199,
    "start_time": "2022-03-04T17:20:25.086Z"
   },
   {
    "duration": 14,
    "start_time": "2022-03-04T17:20:25.287Z"
   },
   {
    "duration": 17,
    "start_time": "2022-03-04T17:20:25.304Z"
   },
   {
    "duration": 15,
    "start_time": "2022-03-04T17:20:25.324Z"
   },
   {
    "duration": 261,
    "start_time": "2022-03-04T17:20:25.343Z"
   },
   {
    "duration": 1074,
    "start_time": "2022-03-04T17:20:25.607Z"
   },
   {
    "duration": 1027,
    "start_time": "2022-03-04T17:20:26.684Z"
   },
   {
    "duration": 1185,
    "start_time": "2022-03-04T17:20:27.713Z"
   },
   {
    "duration": 2300,
    "start_time": "2022-03-04T17:20:28.901Z"
   },
   {
    "duration": 6,
    "start_time": "2022-03-04T17:20:31.204Z"
   },
   {
    "duration": 306,
    "start_time": "2022-03-04T17:20:31.212Z"
   },
   {
    "duration": 14,
    "start_time": "2022-03-04T17:20:31.520Z"
   },
   {
    "duration": 79,
    "start_time": "2022-03-04T17:20:31.536Z"
   },
   {
    "duration": 47,
    "start_time": "2022-03-04T17:20:31.618Z"
   },
   {
    "duration": 8,
    "start_time": "2022-03-04T17:20:31.683Z"
   },
   {
    "duration": 81,
    "start_time": "2022-03-04T17:20:31.694Z"
   },
   {
    "duration": 6,
    "start_time": "2022-03-04T17:20:31.778Z"
   },
   {
    "duration": 99,
    "start_time": "2022-03-04T17:20:31.787Z"
   },
   {
    "duration": 8,
    "start_time": "2022-03-04T17:20:31.890Z"
   },
   {
    "duration": 59,
    "start_time": "2022-03-04T17:20:31.903Z"
   },
   {
    "duration": 31,
    "start_time": "2022-03-04T17:20:31.965Z"
   },
   {
    "duration": 100,
    "start_time": "2022-03-04T17:20:32.085Z"
   },
   {
    "duration": 106,
    "start_time": "2022-03-04T17:20:32.187Z"
   },
   {
    "duration": 108,
    "start_time": "2022-03-04T17:20:32.384Z"
   },
   {
    "duration": 8,
    "start_time": "2022-03-04T17:20:32.585Z"
   },
   {
    "duration": 28,
    "start_time": "2022-03-04T17:20:32.595Z"
   },
   {
    "duration": 16,
    "start_time": "2022-03-04T17:20:32.625Z"
   },
   {
    "duration": 58,
    "start_time": "2022-03-04T17:20:32.643Z"
   },
   {
    "duration": 8,
    "start_time": "2022-03-04T17:20:32.703Z"
   },
   {
    "duration": 736,
    "start_time": "2022-03-04T17:20:32.713Z"
   },
   {
    "duration": 11,
    "start_time": "2022-03-04T17:22:40.482Z"
   },
   {
    "duration": 4149,
    "start_time": "2022-03-04T17:22:42.097Z"
   },
   {
    "duration": 8628,
    "start_time": "2022-03-04T17:25:57.340Z"
   },
   {
    "duration": 13,
    "start_time": "2022-03-04T17:28:49.591Z"
   },
   {
    "duration": 8,
    "start_time": "2022-03-04T17:28:54.992Z"
   },
   {
    "duration": 1613,
    "start_time": "2022-03-04T17:29:20.616Z"
   },
   {
    "duration": 233,
    "start_time": "2022-03-04T17:29:22.232Z"
   },
   {
    "duration": 220,
    "start_time": "2022-03-04T17:29:22.469Z"
   },
   {
    "duration": 216,
    "start_time": "2022-03-04T17:29:22.693Z"
   },
   {
    "duration": 14,
    "start_time": "2022-03-04T17:29:22.912Z"
   },
   {
    "duration": 14,
    "start_time": "2022-03-04T17:29:22.929Z"
   },
   {
    "duration": 48,
    "start_time": "2022-03-04T17:29:22.945Z"
   },
   {
    "duration": 263,
    "start_time": "2022-03-04T17:29:22.996Z"
   },
   {
    "duration": 1163,
    "start_time": "2022-03-04T17:29:23.265Z"
   },
   {
    "duration": 1085,
    "start_time": "2022-03-04T17:29:24.431Z"
   },
   {
    "duration": 1155,
    "start_time": "2022-03-04T17:29:25.520Z"
   },
   {
    "duration": 2399,
    "start_time": "2022-03-04T17:29:26.683Z"
   },
   {
    "duration": 9,
    "start_time": "2022-03-04T17:29:29.085Z"
   },
   {
    "duration": 319,
    "start_time": "2022-03-04T17:29:29.098Z"
   },
   {
    "duration": 16,
    "start_time": "2022-03-04T17:29:29.420Z"
   },
   {
    "duration": 78,
    "start_time": "2022-03-04T17:29:29.438Z"
   },
   {
    "duration": 46,
    "start_time": "2022-03-04T17:29:29.519Z"
   },
   {
    "duration": 25,
    "start_time": "2022-03-04T17:29:29.568Z"
   },
   {
    "duration": 45,
    "start_time": "2022-03-04T17:29:29.595Z"
   },
   {
    "duration": 6,
    "start_time": "2022-03-04T17:29:29.642Z"
   },
   {
    "duration": 52,
    "start_time": "2022-03-04T17:29:29.651Z"
   },
   {
    "duration": 6,
    "start_time": "2022-03-04T17:29:29.706Z"
   },
   {
    "duration": 74,
    "start_time": "2022-03-04T17:29:29.714Z"
   },
   {
    "duration": 106,
    "start_time": "2022-03-04T17:29:29.791Z"
   },
   {
    "duration": 94,
    "start_time": "2022-03-04T17:29:29.903Z"
   },
   {
    "duration": 91,
    "start_time": "2022-03-04T17:29:30.004Z"
   },
   {
    "duration": 139,
    "start_time": "2022-03-04T17:29:30.182Z"
   },
   {
    "duration": 13,
    "start_time": "2022-03-04T17:29:30.385Z"
   },
   {
    "duration": 125,
    "start_time": "2022-03-04T17:29:30.401Z"
   },
   {
    "duration": 6,
    "start_time": "2022-03-04T17:29:30.529Z"
   },
   {
    "duration": 34,
    "start_time": "2022-03-04T17:29:30.537Z"
   },
   {
    "duration": 19,
    "start_time": "2022-03-04T17:29:30.574Z"
   },
   {
    "duration": 10979,
    "start_time": "2022-03-04T17:29:30.596Z"
   },
   {
    "duration": 7,
    "start_time": "2022-03-04T17:34:31.640Z"
   },
   {
    "duration": 8259,
    "start_time": "2022-03-04T17:34:32.999Z"
   },
   {
    "duration": 8,
    "start_time": "2022-03-04T17:35:11.100Z"
   },
   {
    "duration": 8587,
    "start_time": "2022-03-04T17:35:12.179Z"
   },
   {
    "duration": 7,
    "start_time": "2022-03-04T17:42:04.782Z"
   },
   {
    "duration": 8285,
    "start_time": "2022-03-04T17:42:05.998Z"
   },
   {
    "duration": 7,
    "start_time": "2022-03-04T17:42:58.776Z"
   },
   {
    "duration": 8031,
    "start_time": "2022-03-04T17:42:59.286Z"
   },
   {
    "duration": 7,
    "start_time": "2022-03-04T17:43:30.191Z"
   },
   {
    "duration": 8023,
    "start_time": "2022-03-04T17:43:30.967Z"
   },
   {
    "duration": 1380,
    "start_time": "2022-03-04T18:23:03.927Z"
   },
   {
    "duration": 217,
    "start_time": "2022-03-04T18:23:05.310Z"
   },
   {
    "duration": 206,
    "start_time": "2022-03-04T18:23:05.530Z"
   },
   {
    "duration": 203,
    "start_time": "2022-03-04T18:23:05.739Z"
   },
   {
    "duration": 14,
    "start_time": "2022-03-04T18:23:05.944Z"
   },
   {
    "duration": 36,
    "start_time": "2022-03-04T18:23:05.961Z"
   },
   {
    "duration": 13,
    "start_time": "2022-03-04T18:23:06.000Z"
   },
   {
    "duration": 256,
    "start_time": "2022-03-04T18:23:06.017Z"
   },
   {
    "duration": 746,
    "start_time": "2022-03-04T18:23:06.284Z"
   },
   {
    "duration": 840,
    "start_time": "2022-03-04T18:23:06.193Z"
   },
   {
    "duration": 840,
    "start_time": "2022-03-04T18:23:06.194Z"
   },
   {
    "duration": 839,
    "start_time": "2022-03-04T18:23:06.196Z"
   },
   {
    "duration": 840,
    "start_time": "2022-03-04T18:23:06.197Z"
   },
   {
    "duration": 840,
    "start_time": "2022-03-04T18:23:06.198Z"
   },
   {
    "duration": 840,
    "start_time": "2022-03-04T18:23:06.200Z"
   },
   {
    "duration": 840,
    "start_time": "2022-03-04T18:23:06.201Z"
   },
   {
    "duration": 840,
    "start_time": "2022-03-04T18:23:06.202Z"
   },
   {
    "duration": 840,
    "start_time": "2022-03-04T18:23:06.204Z"
   },
   {
    "duration": 820,
    "start_time": "2022-03-04T18:23:06.225Z"
   },
   {
    "duration": 817,
    "start_time": "2022-03-04T18:23:06.229Z"
   },
   {
    "duration": 814,
    "start_time": "2022-03-04T18:23:06.234Z"
   },
   {
    "duration": 812,
    "start_time": "2022-03-04T18:23:06.237Z"
   },
   {
    "duration": 839,
    "start_time": "2022-03-04T18:23:06.242Z"
   },
   {
    "duration": 837,
    "start_time": "2022-03-04T18:23:06.246Z"
   },
   {
    "duration": 835,
    "start_time": "2022-03-04T18:23:06.249Z"
   },
   {
    "duration": 834,
    "start_time": "2022-03-04T18:23:06.251Z"
   },
   {
    "duration": 834,
    "start_time": "2022-03-04T18:23:06.253Z"
   },
   {
    "duration": 835,
    "start_time": "2022-03-04T18:23:06.255Z"
   },
   {
    "duration": 834,
    "start_time": "2022-03-04T18:23:06.258Z"
   },
   {
    "duration": 834,
    "start_time": "2022-03-04T18:23:06.261Z"
   },
   {
    "duration": 832,
    "start_time": "2022-03-04T18:23:06.264Z"
   },
   {
    "duration": 832,
    "start_time": "2022-03-04T18:23:06.266Z"
   },
   {
    "duration": 831,
    "start_time": "2022-03-04T18:23:06.269Z"
   },
   {
    "duration": 8,
    "start_time": "2022-03-04T18:32:54.607Z"
   },
   {
    "duration": 237,
    "start_time": "2022-03-04T18:32:55.127Z"
   },
   {
    "duration": 1381,
    "start_time": "2022-03-04T18:33:10.424Z"
   },
   {
    "duration": 209,
    "start_time": "2022-03-04T18:33:11.807Z"
   },
   {
    "duration": 195,
    "start_time": "2022-03-04T18:33:12.019Z"
   },
   {
    "duration": 193,
    "start_time": "2022-03-04T18:33:12.216Z"
   },
   {
    "duration": 15,
    "start_time": "2022-03-04T18:33:12.411Z"
   },
   {
    "duration": 13,
    "start_time": "2022-03-04T18:33:12.429Z"
   },
   {
    "duration": 41,
    "start_time": "2022-03-04T18:33:12.444Z"
   },
   {
    "duration": 225,
    "start_time": "2022-03-04T18:33:12.488Z"
   },
   {
    "duration": 702,
    "start_time": "2022-03-04T18:33:12.717Z"
   },
   {
    "duration": 848,
    "start_time": "2022-03-04T18:33:12.575Z"
   },
   {
    "duration": 848,
    "start_time": "2022-03-04T18:33:12.577Z"
   },
   {
    "duration": 847,
    "start_time": "2022-03-04T18:33:12.579Z"
   },
   {
    "duration": 847,
    "start_time": "2022-03-04T18:33:12.580Z"
   },
   {
    "duration": 847,
    "start_time": "2022-03-04T18:33:12.582Z"
   },
   {
    "duration": 846,
    "start_time": "2022-03-04T18:33:12.584Z"
   },
   {
    "duration": 845,
    "start_time": "2022-03-04T18:33:12.586Z"
   },
   {
    "duration": 846,
    "start_time": "2022-03-04T18:33:12.587Z"
   },
   {
    "duration": 844,
    "start_time": "2022-03-04T18:33:12.590Z"
   },
   {
    "duration": 843,
    "start_time": "2022-03-04T18:33:12.592Z"
   },
   {
    "duration": 839,
    "start_time": "2022-03-04T18:33:12.598Z"
   },
   {
    "duration": 825,
    "start_time": "2022-03-04T18:33:12.613Z"
   },
   {
    "duration": 823,
    "start_time": "2022-03-04T18:33:12.616Z"
   },
   {
    "duration": 821,
    "start_time": "2022-03-04T18:33:12.620Z"
   },
   {
    "duration": 820,
    "start_time": "2022-03-04T18:33:12.622Z"
   },
   {
    "duration": 819,
    "start_time": "2022-03-04T18:33:12.624Z"
   },
   {
    "duration": 857,
    "start_time": "2022-03-04T18:33:12.625Z"
   },
   {
    "duration": 857,
    "start_time": "2022-03-04T18:33:12.627Z"
   },
   {
    "duration": 857,
    "start_time": "2022-03-04T18:33:12.628Z"
   },
   {
    "duration": 857,
    "start_time": "2022-03-04T18:33:12.630Z"
   },
   {
    "duration": 856,
    "start_time": "2022-03-04T18:33:12.632Z"
   },
   {
    "duration": 853,
    "start_time": "2022-03-04T18:33:12.637Z"
   },
   {
    "duration": 852,
    "start_time": "2022-03-04T18:33:12.639Z"
   },
   {
    "duration": 851,
    "start_time": "2022-03-04T18:33:12.641Z"
   },
   {
    "duration": 1502,
    "start_time": "2022-03-04T18:34:54.324Z"
   },
   {
    "duration": 208,
    "start_time": "2022-03-04T18:34:55.829Z"
   },
   {
    "duration": 208,
    "start_time": "2022-03-04T18:34:56.040Z"
   },
   {
    "duration": 205,
    "start_time": "2022-03-04T18:34:56.251Z"
   },
   {
    "duration": 23,
    "start_time": "2022-03-04T18:34:56.459Z"
   },
   {
    "duration": 19,
    "start_time": "2022-03-04T18:34:56.485Z"
   },
   {
    "duration": 14,
    "start_time": "2022-03-04T18:34:56.506Z"
   },
   {
    "duration": 269,
    "start_time": "2022-03-04T18:34:56.522Z"
   },
   {
    "duration": 1116,
    "start_time": "2022-03-04T18:34:56.797Z"
   },
   {
    "duration": 1111,
    "start_time": "2022-03-04T18:34:57.917Z"
   },
   {
    "duration": 1171,
    "start_time": "2022-03-04T18:34:59.030Z"
   },
   {
    "duration": 2348,
    "start_time": "2022-03-04T18:35:00.204Z"
   },
   {
    "duration": 6,
    "start_time": "2022-03-04T18:35:02.555Z"
   },
   {
    "duration": 306,
    "start_time": "2022-03-04T18:35:02.564Z"
   },
   {
    "duration": 24,
    "start_time": "2022-03-04T18:35:02.872Z"
   },
   {
    "duration": 66,
    "start_time": "2022-03-04T18:35:02.899Z"
   },
   {
    "duration": 56,
    "start_time": "2022-03-04T18:35:02.968Z"
   },
   {
    "duration": 7,
    "start_time": "2022-03-04T18:35:03.026Z"
   },
   {
    "duration": 65,
    "start_time": "2022-03-04T18:35:03.035Z"
   },
   {
    "duration": 6,
    "start_time": "2022-03-04T18:35:03.103Z"
   },
   {
    "duration": 22,
    "start_time": "2022-03-04T18:35:03.111Z"
   },
   {
    "duration": 7,
    "start_time": "2022-03-04T18:35:03.135Z"
   },
   {
    "duration": 82,
    "start_time": "2022-03-04T18:35:03.145Z"
   },
   {
    "duration": 61,
    "start_time": "2022-03-04T18:35:03.229Z"
   },
   {
    "duration": 91,
    "start_time": "2022-03-04T18:35:03.293Z"
   },
   {
    "duration": 101,
    "start_time": "2022-03-04T18:35:03.387Z"
   },
   {
    "duration": 188,
    "start_time": "2022-03-04T18:35:03.497Z"
   },
   {
    "duration": 10,
    "start_time": "2022-03-04T18:35:03.689Z"
   },
   {
    "duration": 32,
    "start_time": "2022-03-04T18:35:03.784Z"
   },
   {
    "duration": 4,
    "start_time": "2022-03-04T18:35:03.819Z"
   },
   {
    "duration": 58,
    "start_time": "2022-03-04T18:35:03.826Z"
   },
   {
    "duration": 10,
    "start_time": "2022-03-04T18:35:03.888Z"
   },
   {
    "duration": 8365,
    "start_time": "2022-03-04T18:35:03.900Z"
   },
   {
    "duration": 8,
    "start_time": "2022-03-04T18:36:24.307Z"
   },
   {
    "duration": 8306,
    "start_time": "2022-03-04T18:36:30.878Z"
   },
   {
    "duration": 12,
    "start_time": "2022-03-04T18:36:59.683Z"
   },
   {
    "duration": 8398,
    "start_time": "2022-03-04T18:37:00.794Z"
   },
   {
    "duration": 5,
    "start_time": "2022-03-04T18:41:51.152Z"
   },
   {
    "duration": 369,
    "start_time": "2022-03-04T18:42:10.839Z"
   },
   {
    "duration": 6,
    "start_time": "2022-03-04T18:42:19.951Z"
   },
   {
    "duration": 6,
    "start_time": "2022-03-04T18:43:25.009Z"
   },
   {
    "duration": 7,
    "start_time": "2022-03-04T19:10:51.841Z"
   },
   {
    "duration": 8048,
    "start_time": "2022-03-04T19:10:59.738Z"
   },
   {
    "duration": 83,
    "start_time": "2022-03-04T19:24:43.550Z"
   },
   {
    "duration": 6,
    "start_time": "2022-03-04T19:24:59.518Z"
   },
   {
    "duration": 8381,
    "start_time": "2022-03-04T19:25:00.981Z"
   },
   {
    "duration": 7,
    "start_time": "2022-03-04T19:35:46.127Z"
   },
   {
    "duration": 8597,
    "start_time": "2022-03-04T19:35:47.238Z"
   },
   {
    "duration": 7,
    "start_time": "2022-03-04T19:36:07.658Z"
   },
   {
    "duration": 8717,
    "start_time": "2022-03-04T19:36:08.215Z"
   },
   {
    "duration": 10,
    "start_time": "2022-03-04T19:36:21.987Z"
   },
   {
    "duration": 7,
    "start_time": "2022-03-04T19:37:36.482Z"
   },
   {
    "duration": 8979,
    "start_time": "2022-03-04T19:37:37.185Z"
   },
   {
    "duration": 1485,
    "start_time": "2022-03-05T05:19:59.123Z"
   },
   {
    "duration": 219,
    "start_time": "2022-03-05T05:20:00.610Z"
   },
   {
    "duration": 204,
    "start_time": "2022-03-05T05:20:00.832Z"
   },
   {
    "duration": 209,
    "start_time": "2022-03-05T05:20:01.038Z"
   },
   {
    "duration": 16,
    "start_time": "2022-03-05T05:20:01.249Z"
   },
   {
    "duration": 28,
    "start_time": "2022-03-05T05:20:01.267Z"
   },
   {
    "duration": 14,
    "start_time": "2022-03-05T05:20:01.297Z"
   },
   {
    "duration": 264,
    "start_time": "2022-03-05T05:20:01.315Z"
   },
   {
    "duration": 1293,
    "start_time": "2022-03-05T05:20:01.588Z"
   },
   {
    "duration": 1203,
    "start_time": "2022-03-05T05:20:02.887Z"
   },
   {
    "duration": 1474,
    "start_time": "2022-03-05T05:20:04.093Z"
   },
   {
    "duration": 2519,
    "start_time": "2022-03-05T05:20:05.570Z"
   },
   {
    "duration": 6,
    "start_time": "2022-03-05T05:20:08.092Z"
   },
   {
    "duration": 317,
    "start_time": "2022-03-05T05:20:08.100Z"
   },
   {
    "duration": 13,
    "start_time": "2022-03-05T05:20:08.420Z"
   },
   {
    "duration": 70,
    "start_time": "2022-03-05T05:20:08.436Z"
   },
   {
    "duration": 46,
    "start_time": "2022-03-05T05:20:08.509Z"
   },
   {
    "duration": 7,
    "start_time": "2022-03-05T05:20:08.558Z"
   },
   {
    "duration": 40,
    "start_time": "2022-03-05T05:20:08.588Z"
   },
   {
    "duration": 6,
    "start_time": "2022-03-05T05:20:08.630Z"
   },
   {
    "duration": 48,
    "start_time": "2022-03-05T05:20:08.639Z"
   },
   {
    "duration": 6,
    "start_time": "2022-03-05T05:20:08.689Z"
   },
   {
    "duration": 48,
    "start_time": "2022-03-05T05:20:08.699Z"
   },
   {
    "duration": 137,
    "start_time": "2022-03-05T05:20:08.750Z"
   },
   {
    "duration": 9,
    "start_time": "2022-03-05T05:20:08.891Z"
   },
   {
    "duration": 109,
    "start_time": "2022-03-05T05:20:08.988Z"
   },
   {
    "duration": 202,
    "start_time": "2022-03-05T05:20:09.188Z"
   },
   {
    "duration": 94,
    "start_time": "2022-03-05T05:20:09.393Z"
   },
   {
    "duration": 29,
    "start_time": "2022-03-05T05:20:09.491Z"
   },
   {
    "duration": 11,
    "start_time": "2022-03-05T05:20:09.523Z"
   },
   {
    "duration": 51,
    "start_time": "2022-03-05T05:20:09.537Z"
   },
   {
    "duration": 6,
    "start_time": "2022-03-05T05:20:09.591Z"
   },
   {
    "duration": 8311,
    "start_time": "2022-03-05T05:20:09.600Z"
   },
   {
    "duration": 1448,
    "start_time": "2022-03-05T05:28:11.521Z"
   },
   {
    "duration": 211,
    "start_time": "2022-03-05T05:28:12.971Z"
   },
   {
    "duration": 190,
    "start_time": "2022-03-05T05:28:13.184Z"
   },
   {
    "duration": 188,
    "start_time": "2022-03-05T05:28:13.377Z"
   },
   {
    "duration": 27,
    "start_time": "2022-03-05T05:28:13.567Z"
   },
   {
    "duration": 12,
    "start_time": "2022-03-05T05:28:13.596Z"
   },
   {
    "duration": 12,
    "start_time": "2022-03-05T05:28:13.611Z"
   },
   {
    "duration": 238,
    "start_time": "2022-03-05T05:28:13.627Z"
   },
   {
    "duration": 1047,
    "start_time": "2022-03-05T05:28:13.868Z"
   },
   {
    "duration": 1183,
    "start_time": "2022-03-05T05:28:14.917Z"
   },
   {
    "duration": 1065,
    "start_time": "2022-03-05T05:28:16.103Z"
   },
   {
    "duration": 2367,
    "start_time": "2022-03-05T05:28:17.171Z"
   },
   {
    "duration": 6,
    "start_time": "2022-03-05T05:28:19.541Z"
   },
   {
    "duration": 313,
    "start_time": "2022-03-05T05:28:19.549Z"
   },
   {
    "duration": 23,
    "start_time": "2022-03-05T05:28:19.864Z"
   },
   {
    "duration": 49,
    "start_time": "2022-03-05T05:28:19.889Z"
   },
   {
    "duration": 66,
    "start_time": "2022-03-05T05:28:19.941Z"
   },
   {
    "duration": 8,
    "start_time": "2022-03-05T05:28:20.009Z"
   },
   {
    "duration": 43,
    "start_time": "2022-03-05T05:28:20.019Z"
   },
   {
    "duration": 23,
    "start_time": "2022-03-05T05:28:20.064Z"
   },
   {
    "duration": 19,
    "start_time": "2022-03-05T05:28:20.090Z"
   },
   {
    "duration": 6,
    "start_time": "2022-03-05T05:28:20.111Z"
   },
   {
    "duration": 80,
    "start_time": "2022-03-05T05:28:20.122Z"
   },
   {
    "duration": 82,
    "start_time": "2022-03-05T05:28:20.205Z"
   },
   {
    "duration": 97,
    "start_time": "2022-03-05T05:28:20.291Z"
   },
   {
    "duration": 101,
    "start_time": "2022-03-05T05:28:20.390Z"
   },
   {
    "duration": 195,
    "start_time": "2022-03-05T05:28:20.494Z"
   },
   {
    "duration": 98,
    "start_time": "2022-03-05T05:28:20.692Z"
   },
   {
    "duration": 28,
    "start_time": "2022-03-05T05:28:20.793Z"
   },
   {
    "duration": 6,
    "start_time": "2022-03-05T05:28:20.824Z"
   },
   {
    "duration": 70,
    "start_time": "2022-03-05T05:28:20.832Z"
   },
   {
    "duration": 8,
    "start_time": "2022-03-05T05:28:20.904Z"
   },
   {
    "duration": 8182,
    "start_time": "2022-03-05T05:28:20.914Z"
   },
   {
    "duration": 7,
    "start_time": "2022-03-05T05:40:35.346Z"
   },
   {
    "duration": 8650,
    "start_time": "2022-03-05T05:40:37.249Z"
   },
   {
    "duration": 7,
    "start_time": "2022-03-05T05:53:57.101Z"
   },
   {
    "duration": 8340,
    "start_time": "2022-03-05T05:53:57.820Z"
   },
   {
    "duration": 46,
    "start_time": "2022-03-05T08:30:57.346Z"
   },
   {
    "duration": 1449,
    "start_time": "2022-03-05T08:35:42.533Z"
   },
   {
    "duration": 201,
    "start_time": "2022-03-05T08:35:43.987Z"
   },
   {
    "duration": 198,
    "start_time": "2022-03-05T08:35:44.190Z"
   },
   {
    "duration": 216,
    "start_time": "2022-03-05T08:35:44.390Z"
   },
   {
    "duration": 16,
    "start_time": "2022-03-05T08:35:44.609Z"
   },
   {
    "duration": 15,
    "start_time": "2022-03-05T08:35:44.628Z"
   },
   {
    "duration": 42,
    "start_time": "2022-03-05T08:35:44.646Z"
   },
   {
    "duration": 230,
    "start_time": "2022-03-05T08:35:44.692Z"
   },
   {
    "duration": 1084,
    "start_time": "2022-03-05T08:35:44.925Z"
   },
   {
    "duration": 1093,
    "start_time": "2022-03-05T08:35:46.012Z"
   },
   {
    "duration": 1052,
    "start_time": "2022-03-05T08:35:47.108Z"
   },
   {
    "duration": 2227,
    "start_time": "2022-03-05T08:35:48.162Z"
   },
   {
    "duration": 6,
    "start_time": "2022-03-05T08:35:50.391Z"
   },
   {
    "duration": 299,
    "start_time": "2022-03-05T08:35:50.399Z"
   },
   {
    "duration": 13,
    "start_time": "2022-03-05T08:35:50.700Z"
   },
   {
    "duration": 73,
    "start_time": "2022-03-05T08:35:50.715Z"
   },
   {
    "duration": 47,
    "start_time": "2022-03-05T08:35:50.792Z"
   },
   {
    "duration": 3,
    "start_time": "2022-03-05T08:35:50.842Z"
   },
   {
    "duration": 78,
    "start_time": "2022-03-05T08:35:50.847Z"
   },
   {
    "duration": 5,
    "start_time": "2022-03-05T08:35:50.928Z"
   },
   {
    "duration": 23,
    "start_time": "2022-03-05T08:35:50.936Z"
   },
   {
    "duration": 25,
    "start_time": "2022-03-05T08:35:50.962Z"
   },
   {
    "duration": 45,
    "start_time": "2022-03-05T08:35:50.991Z"
   },
   {
    "duration": 49,
    "start_time": "2022-03-05T08:35:51.038Z"
   },
   {
    "duration": 98,
    "start_time": "2022-03-05T08:35:51.091Z"
   },
   {
    "duration": 102,
    "start_time": "2022-03-05T08:35:51.192Z"
   },
   {
    "duration": 290,
    "start_time": "2022-03-05T08:35:51.297Z"
   },
   {
    "duration": 96,
    "start_time": "2022-03-05T08:35:51.595Z"
   },
   {
    "duration": 25,
    "start_time": "2022-03-05T08:35:51.693Z"
   },
   {
    "duration": 5,
    "start_time": "2022-03-05T08:35:51.720Z"
   },
   {
    "duration": 65,
    "start_time": "2022-03-05T08:35:51.727Z"
   },
   {
    "duration": 6,
    "start_time": "2022-03-05T08:35:51.794Z"
   },
   {
    "duration": 8142,
    "start_time": "2022-03-05T08:35:51.803Z"
   }
  ],
  "kernelspec": {
   "display_name": "Python 3",
   "language": "python",
   "name": "python3"
  },
  "language_info": {
   "codemirror_mode": {
    "name": "ipython",
    "version": 3
   },
   "file_extension": ".py",
   "mimetype": "text/x-python",
   "name": "python",
   "nbconvert_exporter": "python",
   "pygments_lexer": "ipython3",
   "version": "3.8.8"
  },
  "toc": {
   "base_numbering": 1,
   "nav_menu": {},
   "number_sections": true,
   "sideBar": true,
   "skip_h1_title": true,
   "title_cell": "Table of Contents",
   "title_sidebar": "Contents",
   "toc_cell": false,
   "toc_position": {},
   "toc_section_display": true,
   "toc_window_display": false
  }
 },
 "nbformat": 4,
 "nbformat_minor": 2
}
